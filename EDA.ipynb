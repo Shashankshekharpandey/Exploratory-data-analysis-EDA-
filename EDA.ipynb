{
 "cells": [
  {
   "cell_type": "code",
   "execution_count": 1,
   "metadata": {},
   "outputs": [],
   "source": [
    "#importing depenencies\n",
    "import pandas as pd\n",
    "import numpy as np\n",
    "import matplotlib.pyplot as plt\n",
    "import seaborn as sns"
   ]
  },
  {
   "cell_type": "markdown",
   "metadata": {},
   "source": [
    "Data preparation and Cleaning\n"
   ]
  },
  {
   "cell_type": "code",
   "execution_count": 2,
   "metadata": {},
   "outputs": [],
   "source": [
    "df = pd.read_csv(\"US_Accidents_Dec21_updated.csv\")"
   ]
  },
  {
   "cell_type": "code",
   "execution_count": 3,
   "metadata": {},
   "outputs": [
    {
     "data": {
      "text/html": [
       "<div>\n",
       "<style scoped>\n",
       "    .dataframe tbody tr th:only-of-type {\n",
       "        vertical-align: middle;\n",
       "    }\n",
       "\n",
       "    .dataframe tbody tr th {\n",
       "        vertical-align: top;\n",
       "    }\n",
       "\n",
       "    .dataframe thead th {\n",
       "        text-align: right;\n",
       "    }\n",
       "</style>\n",
       "<table border=\"1\" class=\"dataframe\">\n",
       "  <thead>\n",
       "    <tr style=\"text-align: right;\">\n",
       "      <th></th>\n",
       "      <th>ID</th>\n",
       "      <th>Severity</th>\n",
       "      <th>Start_Time</th>\n",
       "      <th>End_Time</th>\n",
       "      <th>Start_Lat</th>\n",
       "      <th>Start_Lng</th>\n",
       "      <th>End_Lat</th>\n",
       "      <th>End_Lng</th>\n",
       "      <th>Distance(mi)</th>\n",
       "      <th>Description</th>\n",
       "      <th>...</th>\n",
       "      <th>Roundabout</th>\n",
       "      <th>Station</th>\n",
       "      <th>Stop</th>\n",
       "      <th>Traffic_Calming</th>\n",
       "      <th>Traffic_Signal</th>\n",
       "      <th>Turning_Loop</th>\n",
       "      <th>Sunrise_Sunset</th>\n",
       "      <th>Civil_Twilight</th>\n",
       "      <th>Nautical_Twilight</th>\n",
       "      <th>Astronomical_Twilight</th>\n",
       "    </tr>\n",
       "  </thead>\n",
       "  <tbody>\n",
       "    <tr>\n",
       "      <th>0</th>\n",
       "      <td>A-1</td>\n",
       "      <td>3</td>\n",
       "      <td>2016-02-08 00:37:08</td>\n",
       "      <td>2016-02-08 06:37:08</td>\n",
       "      <td>40.108910</td>\n",
       "      <td>-83.092860</td>\n",
       "      <td>40.112060</td>\n",
       "      <td>-83.031870</td>\n",
       "      <td>3.230</td>\n",
       "      <td>Between Sawmill Rd/Exit 20 and OH-315/Olentang...</td>\n",
       "      <td>...</td>\n",
       "      <td>False</td>\n",
       "      <td>False</td>\n",
       "      <td>False</td>\n",
       "      <td>False</td>\n",
       "      <td>False</td>\n",
       "      <td>False</td>\n",
       "      <td>Night</td>\n",
       "      <td>Night</td>\n",
       "      <td>Night</td>\n",
       "      <td>Night</td>\n",
       "    </tr>\n",
       "    <tr>\n",
       "      <th>1</th>\n",
       "      <td>A-2</td>\n",
       "      <td>2</td>\n",
       "      <td>2016-02-08 05:56:20</td>\n",
       "      <td>2016-02-08 11:56:20</td>\n",
       "      <td>39.865420</td>\n",
       "      <td>-84.062800</td>\n",
       "      <td>39.865010</td>\n",
       "      <td>-84.048730</td>\n",
       "      <td>0.747</td>\n",
       "      <td>At OH-4/OH-235/Exit 41 - Accident.</td>\n",
       "      <td>...</td>\n",
       "      <td>False</td>\n",
       "      <td>False</td>\n",
       "      <td>False</td>\n",
       "      <td>False</td>\n",
       "      <td>False</td>\n",
       "      <td>False</td>\n",
       "      <td>Night</td>\n",
       "      <td>Night</td>\n",
       "      <td>Night</td>\n",
       "      <td>Night</td>\n",
       "    </tr>\n",
       "    <tr>\n",
       "      <th>2</th>\n",
       "      <td>A-3</td>\n",
       "      <td>2</td>\n",
       "      <td>2016-02-08 06:15:39</td>\n",
       "      <td>2016-02-08 12:15:39</td>\n",
       "      <td>39.102660</td>\n",
       "      <td>-84.524680</td>\n",
       "      <td>39.102090</td>\n",
       "      <td>-84.523960</td>\n",
       "      <td>0.055</td>\n",
       "      <td>At I-71/US-50/Exit 1 - Accident.</td>\n",
       "      <td>...</td>\n",
       "      <td>False</td>\n",
       "      <td>False</td>\n",
       "      <td>False</td>\n",
       "      <td>False</td>\n",
       "      <td>False</td>\n",
       "      <td>False</td>\n",
       "      <td>Night</td>\n",
       "      <td>Night</td>\n",
       "      <td>Night</td>\n",
       "      <td>Day</td>\n",
       "    </tr>\n",
       "    <tr>\n",
       "      <th>3</th>\n",
       "      <td>A-4</td>\n",
       "      <td>2</td>\n",
       "      <td>2016-02-08 06:51:45</td>\n",
       "      <td>2016-02-08 12:51:45</td>\n",
       "      <td>41.062130</td>\n",
       "      <td>-81.537840</td>\n",
       "      <td>41.062170</td>\n",
       "      <td>-81.535470</td>\n",
       "      <td>0.123</td>\n",
       "      <td>At Dart Ave/Exit 21 - Accident.</td>\n",
       "      <td>...</td>\n",
       "      <td>False</td>\n",
       "      <td>False</td>\n",
       "      <td>False</td>\n",
       "      <td>False</td>\n",
       "      <td>False</td>\n",
       "      <td>False</td>\n",
       "      <td>Night</td>\n",
       "      <td>Night</td>\n",
       "      <td>Day</td>\n",
       "      <td>Day</td>\n",
       "    </tr>\n",
       "    <tr>\n",
       "      <th>4</th>\n",
       "      <td>A-5</td>\n",
       "      <td>3</td>\n",
       "      <td>2016-02-08 07:53:43</td>\n",
       "      <td>2016-02-08 13:53:43</td>\n",
       "      <td>39.172393</td>\n",
       "      <td>-84.492792</td>\n",
       "      <td>39.170476</td>\n",
       "      <td>-84.501798</td>\n",
       "      <td>0.500</td>\n",
       "      <td>At Mitchell Ave/Exit 6 - Accident.</td>\n",
       "      <td>...</td>\n",
       "      <td>False</td>\n",
       "      <td>False</td>\n",
       "      <td>False</td>\n",
       "      <td>False</td>\n",
       "      <td>False</td>\n",
       "      <td>False</td>\n",
       "      <td>Day</td>\n",
       "      <td>Day</td>\n",
       "      <td>Day</td>\n",
       "      <td>Day</td>\n",
       "    </tr>\n",
       "    <tr>\n",
       "      <th>...</th>\n",
       "      <td>...</td>\n",
       "      <td>...</td>\n",
       "      <td>...</td>\n",
       "      <td>...</td>\n",
       "      <td>...</td>\n",
       "      <td>...</td>\n",
       "      <td>...</td>\n",
       "      <td>...</td>\n",
       "      <td>...</td>\n",
       "      <td>...</td>\n",
       "      <td>...</td>\n",
       "      <td>...</td>\n",
       "      <td>...</td>\n",
       "      <td>...</td>\n",
       "      <td>...</td>\n",
       "      <td>...</td>\n",
       "      <td>...</td>\n",
       "      <td>...</td>\n",
       "      <td>...</td>\n",
       "      <td>...</td>\n",
       "      <td>...</td>\n",
       "    </tr>\n",
       "    <tr>\n",
       "      <th>2845337</th>\n",
       "      <td>A-2845338</td>\n",
       "      <td>2</td>\n",
       "      <td>2019-08-23 18:03:25</td>\n",
       "      <td>2019-08-23 18:32:01</td>\n",
       "      <td>34.002480</td>\n",
       "      <td>-117.379360</td>\n",
       "      <td>33.998880</td>\n",
       "      <td>-117.370940</td>\n",
       "      <td>0.543</td>\n",
       "      <td>At Market St - Accident.</td>\n",
       "      <td>...</td>\n",
       "      <td>False</td>\n",
       "      <td>False</td>\n",
       "      <td>False</td>\n",
       "      <td>False</td>\n",
       "      <td>False</td>\n",
       "      <td>False</td>\n",
       "      <td>Day</td>\n",
       "      <td>Day</td>\n",
       "      <td>Day</td>\n",
       "      <td>Day</td>\n",
       "    </tr>\n",
       "    <tr>\n",
       "      <th>2845338</th>\n",
       "      <td>A-2845339</td>\n",
       "      <td>2</td>\n",
       "      <td>2019-08-23 19:11:30</td>\n",
       "      <td>2019-08-23 19:38:23</td>\n",
       "      <td>32.766960</td>\n",
       "      <td>-117.148060</td>\n",
       "      <td>32.765550</td>\n",
       "      <td>-117.153630</td>\n",
       "      <td>0.338</td>\n",
       "      <td>At Camino Del Rio/Mission Center Rd - Accident.</td>\n",
       "      <td>...</td>\n",
       "      <td>False</td>\n",
       "      <td>False</td>\n",
       "      <td>False</td>\n",
       "      <td>False</td>\n",
       "      <td>False</td>\n",
       "      <td>False</td>\n",
       "      <td>Day</td>\n",
       "      <td>Day</td>\n",
       "      <td>Day</td>\n",
       "      <td>Day</td>\n",
       "    </tr>\n",
       "    <tr>\n",
       "      <th>2845339</th>\n",
       "      <td>A-2845340</td>\n",
       "      <td>2</td>\n",
       "      <td>2019-08-23 19:00:21</td>\n",
       "      <td>2019-08-23 19:28:49</td>\n",
       "      <td>33.775450</td>\n",
       "      <td>-117.847790</td>\n",
       "      <td>33.777400</td>\n",
       "      <td>-117.857270</td>\n",
       "      <td>0.561</td>\n",
       "      <td>At Glassell St/Grand Ave - Accident. in the ri...</td>\n",
       "      <td>...</td>\n",
       "      <td>False</td>\n",
       "      <td>False</td>\n",
       "      <td>False</td>\n",
       "      <td>False</td>\n",
       "      <td>False</td>\n",
       "      <td>False</td>\n",
       "      <td>Day</td>\n",
       "      <td>Day</td>\n",
       "      <td>Day</td>\n",
       "      <td>Day</td>\n",
       "    </tr>\n",
       "    <tr>\n",
       "      <th>2845340</th>\n",
       "      <td>A-2845341</td>\n",
       "      <td>2</td>\n",
       "      <td>2019-08-23 19:00:21</td>\n",
       "      <td>2019-08-23 19:29:42</td>\n",
       "      <td>33.992460</td>\n",
       "      <td>-118.403020</td>\n",
       "      <td>33.983110</td>\n",
       "      <td>-118.395650</td>\n",
       "      <td>0.772</td>\n",
       "      <td>At CA-90/Marina Fwy/Jefferson Blvd - Accident.</td>\n",
       "      <td>...</td>\n",
       "      <td>False</td>\n",
       "      <td>False</td>\n",
       "      <td>False</td>\n",
       "      <td>False</td>\n",
       "      <td>False</td>\n",
       "      <td>False</td>\n",
       "      <td>Day</td>\n",
       "      <td>Day</td>\n",
       "      <td>Day</td>\n",
       "      <td>Day</td>\n",
       "    </tr>\n",
       "    <tr>\n",
       "      <th>2845341</th>\n",
       "      <td>A-2845342</td>\n",
       "      <td>2</td>\n",
       "      <td>2019-08-23 18:52:06</td>\n",
       "      <td>2019-08-23 19:21:31</td>\n",
       "      <td>34.133930</td>\n",
       "      <td>-117.230920</td>\n",
       "      <td>34.137360</td>\n",
       "      <td>-117.239340</td>\n",
       "      <td>0.537</td>\n",
       "      <td>At Highland Ave/Arden Ave - Accident.</td>\n",
       "      <td>...</td>\n",
       "      <td>False</td>\n",
       "      <td>False</td>\n",
       "      <td>False</td>\n",
       "      <td>False</td>\n",
       "      <td>False</td>\n",
       "      <td>False</td>\n",
       "      <td>Day</td>\n",
       "      <td>Day</td>\n",
       "      <td>Day</td>\n",
       "      <td>Day</td>\n",
       "    </tr>\n",
       "  </tbody>\n",
       "</table>\n",
       "<p>2845342 rows × 47 columns</p>\n",
       "</div>"
      ],
      "text/plain": [
       "                ID  Severity           Start_Time             End_Time  \\\n",
       "0              A-1         3  2016-02-08 00:37:08  2016-02-08 06:37:08   \n",
       "1              A-2         2  2016-02-08 05:56:20  2016-02-08 11:56:20   \n",
       "2              A-3         2  2016-02-08 06:15:39  2016-02-08 12:15:39   \n",
       "3              A-4         2  2016-02-08 06:51:45  2016-02-08 12:51:45   \n",
       "4              A-5         3  2016-02-08 07:53:43  2016-02-08 13:53:43   \n",
       "...            ...       ...                  ...                  ...   \n",
       "2845337  A-2845338         2  2019-08-23 18:03:25  2019-08-23 18:32:01   \n",
       "2845338  A-2845339         2  2019-08-23 19:11:30  2019-08-23 19:38:23   \n",
       "2845339  A-2845340         2  2019-08-23 19:00:21  2019-08-23 19:28:49   \n",
       "2845340  A-2845341         2  2019-08-23 19:00:21  2019-08-23 19:29:42   \n",
       "2845341  A-2845342         2  2019-08-23 18:52:06  2019-08-23 19:21:31   \n",
       "\n",
       "         Start_Lat   Start_Lng    End_Lat     End_Lng  Distance(mi)  \\\n",
       "0        40.108910  -83.092860  40.112060  -83.031870         3.230   \n",
       "1        39.865420  -84.062800  39.865010  -84.048730         0.747   \n",
       "2        39.102660  -84.524680  39.102090  -84.523960         0.055   \n",
       "3        41.062130  -81.537840  41.062170  -81.535470         0.123   \n",
       "4        39.172393  -84.492792  39.170476  -84.501798         0.500   \n",
       "...            ...         ...        ...         ...           ...   \n",
       "2845337  34.002480 -117.379360  33.998880 -117.370940         0.543   \n",
       "2845338  32.766960 -117.148060  32.765550 -117.153630         0.338   \n",
       "2845339  33.775450 -117.847790  33.777400 -117.857270         0.561   \n",
       "2845340  33.992460 -118.403020  33.983110 -118.395650         0.772   \n",
       "2845341  34.133930 -117.230920  34.137360 -117.239340         0.537   \n",
       "\n",
       "                                               Description  ...  Roundabout  \\\n",
       "0        Between Sawmill Rd/Exit 20 and OH-315/Olentang...  ...       False   \n",
       "1                       At OH-4/OH-235/Exit 41 - Accident.  ...       False   \n",
       "2                         At I-71/US-50/Exit 1 - Accident.  ...       False   \n",
       "3                          At Dart Ave/Exit 21 - Accident.  ...       False   \n",
       "4                       At Mitchell Ave/Exit 6 - Accident.  ...       False   \n",
       "...                                                    ...  ...         ...   \n",
       "2845337                           At Market St - Accident.  ...       False   \n",
       "2845338    At Camino Del Rio/Mission Center Rd - Accident.  ...       False   \n",
       "2845339  At Glassell St/Grand Ave - Accident. in the ri...  ...       False   \n",
       "2845340     At CA-90/Marina Fwy/Jefferson Blvd - Accident.  ...       False   \n",
       "2845341              At Highland Ave/Arden Ave - Accident.  ...       False   \n",
       "\n",
       "        Station   Stop Traffic_Calming Traffic_Signal Turning_Loop  \\\n",
       "0         False  False           False          False        False   \n",
       "1         False  False           False          False        False   \n",
       "2         False  False           False          False        False   \n",
       "3         False  False           False          False        False   \n",
       "4         False  False           False          False        False   \n",
       "...         ...    ...             ...            ...          ...   \n",
       "2845337   False  False           False          False        False   \n",
       "2845338   False  False           False          False        False   \n",
       "2845339   False  False           False          False        False   \n",
       "2845340   False  False           False          False        False   \n",
       "2845341   False  False           False          False        False   \n",
       "\n",
       "        Sunrise_Sunset Civil_Twilight Nautical_Twilight Astronomical_Twilight  \n",
       "0                Night          Night             Night                 Night  \n",
       "1                Night          Night             Night                 Night  \n",
       "2                Night          Night             Night                   Day  \n",
       "3                Night          Night               Day                   Day  \n",
       "4                  Day            Day               Day                   Day  \n",
       "...                ...            ...               ...                   ...  \n",
       "2845337            Day            Day               Day                   Day  \n",
       "2845338            Day            Day               Day                   Day  \n",
       "2845339            Day            Day               Day                   Day  \n",
       "2845340            Day            Day               Day                   Day  \n",
       "2845341            Day            Day               Day                   Day  \n",
       "\n",
       "[2845342 rows x 47 columns]"
      ]
     },
     "execution_count": 3,
     "metadata": {},
     "output_type": "execute_result"
    }
   ],
   "source": [
    "df"
   ]
  },
  {
   "cell_type": "code",
   "execution_count": 4,
   "metadata": {},
   "outputs": [
    {
     "name": "stdout",
     "output_type": "stream",
     "text": [
      "<class 'pandas.core.frame.DataFrame'>\n",
      "RangeIndex: 2845342 entries, 0 to 2845341\n",
      "Data columns (total 47 columns):\n",
      " #   Column                 Dtype  \n",
      "---  ------                 -----  \n",
      " 0   ID                     object \n",
      " 1   Severity               int64  \n",
      " 2   Start_Time             object \n",
      " 3   End_Time               object \n",
      " 4   Start_Lat              float64\n",
      " 5   Start_Lng              float64\n",
      " 6   End_Lat                float64\n",
      " 7   End_Lng                float64\n",
      " 8   Distance(mi)           float64\n",
      " 9   Description            object \n",
      " 10  Number                 float64\n",
      " 11  Street                 object \n",
      " 12  Side                   object \n",
      " 13  City                   object \n",
      " 14  County                 object \n",
      " 15  State                  object \n",
      " 16  Zipcode                object \n",
      " 17  Country                object \n",
      " 18  Timezone               object \n",
      " 19  Airport_Code           object \n",
      " 20  Weather_Timestamp      object \n",
      " 21  Temperature(F)         float64\n",
      " 22  Wind_Chill(F)          float64\n",
      " 23  Humidity(%)            float64\n",
      " 24  Pressure(in)           float64\n",
      " 25  Visibility(mi)         float64\n",
      " 26  Wind_Direction         object \n",
      " 27  Wind_Speed(mph)        float64\n",
      " 28  Precipitation(in)      float64\n",
      " 29  Weather_Condition      object \n",
      " 30  Amenity                bool   \n",
      " 31  Bump                   bool   \n",
      " 32  Crossing               bool   \n",
      " 33  Give_Way               bool   \n",
      " 34  Junction               bool   \n",
      " 35  No_Exit                bool   \n",
      " 36  Railway                bool   \n",
      " 37  Roundabout             bool   \n",
      " 38  Station                bool   \n",
      " 39  Stop                   bool   \n",
      " 40  Traffic_Calming        bool   \n",
      " 41  Traffic_Signal         bool   \n",
      " 42  Turning_Loop           bool   \n",
      " 43  Sunrise_Sunset         object \n",
      " 44  Civil_Twilight         object \n",
      " 45  Nautical_Twilight      object \n",
      " 46  Astronomical_Twilight  object \n",
      "dtypes: bool(13), float64(13), int64(1), object(20)\n",
      "memory usage: 773.4+ MB\n"
     ]
    }
   ],
   "source": [
    "df.info()"
   ]
  },
  {
   "cell_type": "code",
   "execution_count": 5,
   "metadata": {},
   "outputs": [
    {
     "data": {
      "text/html": [
       "<div>\n",
       "<style scoped>\n",
       "    .dataframe tbody tr th:only-of-type {\n",
       "        vertical-align: middle;\n",
       "    }\n",
       "\n",
       "    .dataframe tbody tr th {\n",
       "        vertical-align: top;\n",
       "    }\n",
       "\n",
       "    .dataframe thead th {\n",
       "        text-align: right;\n",
       "    }\n",
       "</style>\n",
       "<table border=\"1\" class=\"dataframe\">\n",
       "  <thead>\n",
       "    <tr style=\"text-align: right;\">\n",
       "      <th></th>\n",
       "      <th>Severity</th>\n",
       "      <th>Start_Lat</th>\n",
       "      <th>Start_Lng</th>\n",
       "      <th>End_Lat</th>\n",
       "      <th>End_Lng</th>\n",
       "      <th>Distance(mi)</th>\n",
       "      <th>Number</th>\n",
       "      <th>Temperature(F)</th>\n",
       "      <th>Wind_Chill(F)</th>\n",
       "      <th>Humidity(%)</th>\n",
       "      <th>Pressure(in)</th>\n",
       "      <th>Visibility(mi)</th>\n",
       "      <th>Wind_Speed(mph)</th>\n",
       "      <th>Precipitation(in)</th>\n",
       "    </tr>\n",
       "  </thead>\n",
       "  <tbody>\n",
       "    <tr>\n",
       "      <th>count</th>\n",
       "      <td>2.845342e+06</td>\n",
       "      <td>2.845342e+06</td>\n",
       "      <td>2.845342e+06</td>\n",
       "      <td>2.845342e+06</td>\n",
       "      <td>2.845342e+06</td>\n",
       "      <td>2.845342e+06</td>\n",
       "      <td>1.101431e+06</td>\n",
       "      <td>2.776068e+06</td>\n",
       "      <td>2.375699e+06</td>\n",
       "      <td>2.772250e+06</td>\n",
       "      <td>2.786142e+06</td>\n",
       "      <td>2.774796e+06</td>\n",
       "      <td>2.687398e+06</td>\n",
       "      <td>2.295884e+06</td>\n",
       "    </tr>\n",
       "    <tr>\n",
       "      <th>mean</th>\n",
       "      <td>2.137572e+00</td>\n",
       "      <td>3.624520e+01</td>\n",
       "      <td>-9.711463e+01</td>\n",
       "      <td>3.624532e+01</td>\n",
       "      <td>-9.711439e+01</td>\n",
       "      <td>7.026779e-01</td>\n",
       "      <td>8.089408e+03</td>\n",
       "      <td>6.179356e+01</td>\n",
       "      <td>5.965823e+01</td>\n",
       "      <td>6.436545e+01</td>\n",
       "      <td>2.947234e+01</td>\n",
       "      <td>9.099391e+00</td>\n",
       "      <td>7.395044e+00</td>\n",
       "      <td>7.016940e-03</td>\n",
       "    </tr>\n",
       "    <tr>\n",
       "      <th>std</th>\n",
       "      <td>4.787216e-01</td>\n",
       "      <td>5.363797e+00</td>\n",
       "      <td>1.831782e+01</td>\n",
       "      <td>5.363873e+00</td>\n",
       "      <td>1.831763e+01</td>\n",
       "      <td>1.560361e+00</td>\n",
       "      <td>1.836009e+04</td>\n",
       "      <td>1.862263e+01</td>\n",
       "      <td>2.116097e+01</td>\n",
       "      <td>2.287457e+01</td>\n",
       "      <td>1.045286e+00</td>\n",
       "      <td>2.717546e+00</td>\n",
       "      <td>5.527454e+00</td>\n",
       "      <td>9.348831e-02</td>\n",
       "    </tr>\n",
       "    <tr>\n",
       "      <th>min</th>\n",
       "      <td>1.000000e+00</td>\n",
       "      <td>2.456603e+01</td>\n",
       "      <td>-1.245481e+02</td>\n",
       "      <td>2.456601e+01</td>\n",
       "      <td>-1.245457e+02</td>\n",
       "      <td>0.000000e+00</td>\n",
       "      <td>0.000000e+00</td>\n",
       "      <td>-8.900000e+01</td>\n",
       "      <td>-8.900000e+01</td>\n",
       "      <td>1.000000e+00</td>\n",
       "      <td>0.000000e+00</td>\n",
       "      <td>0.000000e+00</td>\n",
       "      <td>0.000000e+00</td>\n",
       "      <td>0.000000e+00</td>\n",
       "    </tr>\n",
       "    <tr>\n",
       "      <th>25%</th>\n",
       "      <td>2.000000e+00</td>\n",
       "      <td>3.344517e+01</td>\n",
       "      <td>-1.180331e+02</td>\n",
       "      <td>3.344628e+01</td>\n",
       "      <td>-1.180333e+02</td>\n",
       "      <td>5.200000e-02</td>\n",
       "      <td>1.270000e+03</td>\n",
       "      <td>5.000000e+01</td>\n",
       "      <td>4.600000e+01</td>\n",
       "      <td>4.800000e+01</td>\n",
       "      <td>2.931000e+01</td>\n",
       "      <td>1.000000e+01</td>\n",
       "      <td>3.500000e+00</td>\n",
       "      <td>0.000000e+00</td>\n",
       "    </tr>\n",
       "    <tr>\n",
       "      <th>50%</th>\n",
       "      <td>2.000000e+00</td>\n",
       "      <td>3.609861e+01</td>\n",
       "      <td>-9.241808e+01</td>\n",
       "      <td>3.609799e+01</td>\n",
       "      <td>-9.241772e+01</td>\n",
       "      <td>2.440000e-01</td>\n",
       "      <td>4.007000e+03</td>\n",
       "      <td>6.400000e+01</td>\n",
       "      <td>6.300000e+01</td>\n",
       "      <td>6.700000e+01</td>\n",
       "      <td>2.982000e+01</td>\n",
       "      <td>1.000000e+01</td>\n",
       "      <td>7.000000e+00</td>\n",
       "      <td>0.000000e+00</td>\n",
       "    </tr>\n",
       "    <tr>\n",
       "      <th>75%</th>\n",
       "      <td>2.000000e+00</td>\n",
       "      <td>4.016024e+01</td>\n",
       "      <td>-8.037243e+01</td>\n",
       "      <td>4.016105e+01</td>\n",
       "      <td>-8.037338e+01</td>\n",
       "      <td>7.640000e-01</td>\n",
       "      <td>9.567000e+03</td>\n",
       "      <td>7.600000e+01</td>\n",
       "      <td>7.600000e+01</td>\n",
       "      <td>8.300000e+01</td>\n",
       "      <td>3.001000e+01</td>\n",
       "      <td>1.000000e+01</td>\n",
       "      <td>1.000000e+01</td>\n",
       "      <td>0.000000e+00</td>\n",
       "    </tr>\n",
       "    <tr>\n",
       "      <th>max</th>\n",
       "      <td>4.000000e+00</td>\n",
       "      <td>4.900058e+01</td>\n",
       "      <td>-6.711317e+01</td>\n",
       "      <td>4.907500e+01</td>\n",
       "      <td>-6.710924e+01</td>\n",
       "      <td>1.551860e+02</td>\n",
       "      <td>9.999997e+06</td>\n",
       "      <td>1.960000e+02</td>\n",
       "      <td>1.960000e+02</td>\n",
       "      <td>1.000000e+02</td>\n",
       "      <td>5.890000e+01</td>\n",
       "      <td>1.400000e+02</td>\n",
       "      <td>1.087000e+03</td>\n",
       "      <td>2.400000e+01</td>\n",
       "    </tr>\n",
       "  </tbody>\n",
       "</table>\n",
       "</div>"
      ],
      "text/plain": [
       "           Severity     Start_Lat     Start_Lng       End_Lat       End_Lng  \\\n",
       "count  2.845342e+06  2.845342e+06  2.845342e+06  2.845342e+06  2.845342e+06   \n",
       "mean   2.137572e+00  3.624520e+01 -9.711463e+01  3.624532e+01 -9.711439e+01   \n",
       "std    4.787216e-01  5.363797e+00  1.831782e+01  5.363873e+00  1.831763e+01   \n",
       "min    1.000000e+00  2.456603e+01 -1.245481e+02  2.456601e+01 -1.245457e+02   \n",
       "25%    2.000000e+00  3.344517e+01 -1.180331e+02  3.344628e+01 -1.180333e+02   \n",
       "50%    2.000000e+00  3.609861e+01 -9.241808e+01  3.609799e+01 -9.241772e+01   \n",
       "75%    2.000000e+00  4.016024e+01 -8.037243e+01  4.016105e+01 -8.037338e+01   \n",
       "max    4.000000e+00  4.900058e+01 -6.711317e+01  4.907500e+01 -6.710924e+01   \n",
       "\n",
       "       Distance(mi)        Number  Temperature(F)  Wind_Chill(F)  \\\n",
       "count  2.845342e+06  1.101431e+06    2.776068e+06   2.375699e+06   \n",
       "mean   7.026779e-01  8.089408e+03    6.179356e+01   5.965823e+01   \n",
       "std    1.560361e+00  1.836009e+04    1.862263e+01   2.116097e+01   \n",
       "min    0.000000e+00  0.000000e+00   -8.900000e+01  -8.900000e+01   \n",
       "25%    5.200000e-02  1.270000e+03    5.000000e+01   4.600000e+01   \n",
       "50%    2.440000e-01  4.007000e+03    6.400000e+01   6.300000e+01   \n",
       "75%    7.640000e-01  9.567000e+03    7.600000e+01   7.600000e+01   \n",
       "max    1.551860e+02  9.999997e+06    1.960000e+02   1.960000e+02   \n",
       "\n",
       "        Humidity(%)  Pressure(in)  Visibility(mi)  Wind_Speed(mph)  \\\n",
       "count  2.772250e+06  2.786142e+06    2.774796e+06     2.687398e+06   \n",
       "mean   6.436545e+01  2.947234e+01    9.099391e+00     7.395044e+00   \n",
       "std    2.287457e+01  1.045286e+00    2.717546e+00     5.527454e+00   \n",
       "min    1.000000e+00  0.000000e+00    0.000000e+00     0.000000e+00   \n",
       "25%    4.800000e+01  2.931000e+01    1.000000e+01     3.500000e+00   \n",
       "50%    6.700000e+01  2.982000e+01    1.000000e+01     7.000000e+00   \n",
       "75%    8.300000e+01  3.001000e+01    1.000000e+01     1.000000e+01   \n",
       "max    1.000000e+02  5.890000e+01    1.400000e+02     1.087000e+03   \n",
       "\n",
       "       Precipitation(in)  \n",
       "count       2.295884e+06  \n",
       "mean        7.016940e-03  \n",
       "std         9.348831e-02  \n",
       "min         0.000000e+00  \n",
       "25%         0.000000e+00  \n",
       "50%         0.000000e+00  \n",
       "75%         0.000000e+00  \n",
       "max         2.400000e+01  "
      ]
     },
     "execution_count": 5,
     "metadata": {},
     "output_type": "execute_result"
    }
   ],
   "source": [
    "df.describe()"
   ]
  },
  {
   "cell_type": "code",
   "execution_count": 6,
   "metadata": {},
   "outputs": [
    {
     "data": {
      "text/plain": [
       "14"
      ]
     },
     "execution_count": 6,
     "metadata": {},
     "output_type": "execute_result"
    }
   ],
   "source": [
    "numerics = ['int16', 'int32', 'int64', 'float16', 'float32', 'float64']\n",
    "\n",
    "numeric_df = df.select_dtypes(include=numerics)\n",
    "len(numeric_df.columns)"
   ]
  },
  {
   "cell_type": "code",
   "execution_count": null,
   "metadata": {},
   "outputs": [],
   "source": [
    " "
   ]
  },
  {
   "cell_type": "code",
   "execution_count": 7,
   "metadata": {},
   "outputs": [
    {
     "data": {
      "text/plain": [
       "Number                   6.129003e-01\n",
       "Precipitation(in)        1.931079e-01\n",
       "Wind_Chill(F)            1.650568e-01\n",
       "Wind_Speed(mph)          5.550967e-02\n",
       "Wind_Direction           2.592834e-02\n",
       "Humidity(%)              2.568830e-02\n",
       "Weather_Condition        2.482514e-02\n",
       "Visibility(mi)           2.479350e-02\n",
       "Temperature(F)           2.434646e-02\n",
       "Pressure(in)             2.080593e-02\n",
       "Weather_Timestamp        1.783125e-02\n",
       "Airport_Code             3.356011e-03\n",
       "Timezone                 1.285961e-03\n",
       "Nautical_Twilight        1.007612e-03\n",
       "Astronomical_Twilight    1.007612e-03\n",
       "Sunrise_Sunset           1.007612e-03\n",
       "Civil_Twilight           1.007612e-03\n",
       "Zipcode                  4.635647e-04\n",
       "City                     4.814887e-05\n",
       "Street                   7.029032e-07\n",
       "Distance(mi)             0.000000e+00\n",
       "Side                     0.000000e+00\n",
       "Description              0.000000e+00\n",
       "Bump                     0.000000e+00\n",
       "County                   0.000000e+00\n",
       "End_Lat                  0.000000e+00\n",
       "Start_Lng                0.000000e+00\n",
       "Start_Lat                0.000000e+00\n",
       "End_Time                 0.000000e+00\n",
       "Start_Time               0.000000e+00\n",
       "Severity                 0.000000e+00\n",
       "End_Lng                  0.000000e+00\n",
       "State                    0.000000e+00\n",
       "Amenity                  0.000000e+00\n",
       "Country                  0.000000e+00\n",
       "Turning_Loop             0.000000e+00\n",
       "Traffic_Signal           0.000000e+00\n",
       "Traffic_Calming          0.000000e+00\n",
       "Stop                     0.000000e+00\n",
       "Station                  0.000000e+00\n",
       "Roundabout               0.000000e+00\n",
       "Railway                  0.000000e+00\n",
       "No_Exit                  0.000000e+00\n",
       "Junction                 0.000000e+00\n",
       "Give_Way                 0.000000e+00\n",
       "Crossing                 0.000000e+00\n",
       "ID                       0.000000e+00\n",
       "dtype: float64"
      ]
     },
     "execution_count": 7,
     "metadata": {},
     "output_type": "execute_result"
    }
   ],
   "source": [
    "missing_percentages = df.isnull().sum().sort_values(ascending=False)/len(df)\n",
    "missing_percentages"
   ]
  },
  {
   "cell_type": "code",
   "execution_count": 8,
   "metadata": {},
   "outputs": [
    {
     "data": {
      "text/plain": [
       "Number                   6.129003e-01\n",
       "Precipitation(in)        1.931079e-01\n",
       "Wind_Chill(F)            1.650568e-01\n",
       "Wind_Speed(mph)          5.550967e-02\n",
       "Wind_Direction           2.592834e-02\n",
       "Humidity(%)              2.568830e-02\n",
       "Weather_Condition        2.482514e-02\n",
       "Visibility(mi)           2.479350e-02\n",
       "Temperature(F)           2.434646e-02\n",
       "Pressure(in)             2.080593e-02\n",
       "Weather_Timestamp        1.783125e-02\n",
       "Airport_Code             3.356011e-03\n",
       "Timezone                 1.285961e-03\n",
       "Nautical_Twilight        1.007612e-03\n",
       "Astronomical_Twilight    1.007612e-03\n",
       "Sunrise_Sunset           1.007612e-03\n",
       "Civil_Twilight           1.007612e-03\n",
       "Zipcode                  4.635647e-04\n",
       "City                     4.814887e-05\n",
       "Street                   7.029032e-07\n",
       "dtype: float64"
      ]
     },
     "execution_count": 8,
     "metadata": {},
     "output_type": "execute_result"
    }
   ],
   "source": [
    "missing_percentages[missing_percentages !=0]"
   ]
  },
  {
   "cell_type": "code",
   "execution_count": 9,
   "metadata": {},
   "outputs": [
    {
     "data": {
      "text/plain": [
       "<AxesSubplot:>"
      ]
     },
     "execution_count": 9,
     "metadata": {},
     "output_type": "execute_result"
    },
    {
     "data": {
      "image/png": "[encoded data removed]",
      "text/plain": [
       "<Figure size 432x288 with 1 Axes>"
      ]
     },
     "metadata": {
      "needs_background": "light"
     },
     "output_type": "display_data"
    }
   ],
   "source": [
    "missing_percentages[missing_percentages !=0].plot(kind='barh')"
   ]
  },
  {
   "cell_type": "code",
   "execution_count": 10,
   "metadata": {},
   "outputs": [],
   "source": [
    "#REMOVE columns that you dont want to use"
   ]
  },
  {
   "cell_type": "code",
   "execution_count": 11,
   "metadata": {},
   "outputs": [
    {
     "data": {
      "text/plain": [
       "Index(['ID', 'Severity', 'Start_Time', 'End_Time', 'Start_Lat', 'Start_Lng',\n",
       "       'End_Lat', 'End_Lng', 'Distance(mi)', 'Description', 'Number', 'Street',\n",
       "       'Side', 'City', 'County', 'State', 'Zipcode', 'Country', 'Timezone',\n",
       "       'Airport_Code', 'Weather_Timestamp', 'Temperature(F)', 'Wind_Chill(F)',\n",
       "       'Humidity(%)', 'Pressure(in)', 'Visibility(mi)', 'Wind_Direction',\n",
       "       'Wind_Speed(mph)', 'Precipitation(in)', 'Weather_Condition', 'Amenity',\n",
       "       'Bump', 'Crossing', 'Give_Way', 'Junction', 'No_Exit', 'Railway',\n",
       "       'Roundabout', 'Station', 'Stop', 'Traffic_Calming', 'Traffic_Signal',\n",
       "       'Turning_Loop', 'Sunrise_Sunset', 'Civil_Twilight', 'Nautical_Twilight',\n",
       "       'Astronomical_Twilight'],\n",
       "      dtype='object')"
      ]
     },
     "execution_count": 11,
     "metadata": {},
     "output_type": "execute_result"
    }
   ],
   "source": [
    "df.columns"
   ]
  },
  {
   "cell_type": "code",
   "execution_count": 12,
   "metadata": {},
   "outputs": [
    {
     "data": {
      "text/plain": [
       "11682"
      ]
     },
     "execution_count": 12,
     "metadata": {},
     "output_type": "execute_result"
    }
   ],
   "source": [
    "cities = df.City.unique()\n",
    "len(cities)"
   ]
  },
  {
   "cell_type": "code",
   "execution_count": 13,
   "metadata": {},
   "outputs": [
    {
     "data": {
      "text/plain": [
       "Miami            106966\n",
       "Los Angeles       68956\n",
       "Orlando           54691\n",
       "Dallas            41979\n",
       "Houston           39448\n",
       "                  ...  \n",
       "Ocean Ridge           1\n",
       "Gibson City           1\n",
       "Seibert               1\n",
       "Kill Buck             1\n",
       "Indian Valley         1\n",
       "Name: City, Length: 11681, dtype: int64"
      ]
     },
     "execution_count": 13,
     "metadata": {},
     "output_type": "execute_result"
    }
   ],
   "source": [
    "cities_by_accident = df.City.value_counts()\n",
    "cities_by_accident"
   ]
  },
  {
   "cell_type": "code",
   "execution_count": 14,
   "metadata": {},
   "outputs": [
    {
     "data": {
      "text/plain": [
       "Miami           106966\n",
       "Los Angeles      68956\n",
       "Orlando          54691\n",
       "Dallas           41979\n",
       "Houston          39448\n",
       "Charlotte        33152\n",
       "Sacramento       32559\n",
       "San Diego        26627\n",
       "Raleigh          22840\n",
       "Minneapolis      22768\n",
       "Portland         20944\n",
       "Nashville        20267\n",
       "Austin           18301\n",
       "Baton Rouge      18182\n",
       "Phoenix          17143\n",
       "Saint Paul       16869\n",
       "New Orleans      16251\n",
       "Atlanta          15622\n",
       "Jacksonville     14967\n",
       "Richmond         14349\n",
       "Name: City, dtype: int64"
      ]
     },
     "execution_count": 14,
     "metadata": {},
     "output_type": "execute_result"
    }
   ],
   "source": [
    "cities_by_accident[:20]"
   ]
  },
  {
   "cell_type": "code",
   "execution_count": 15,
   "metadata": {},
   "outputs": [
    {
     "data": {
      "text/plain": [
       "<AxesSubplot:>"
      ]
     },
     "execution_count": 15,
     "metadata": {},
     "output_type": "execute_result"
    },
    {
     "data": {
      "image/png": "[encoded data removed]",
      "text/plain": [
       "<Figure size 432x288 with 1 Axes>"
      ]
     },
     "metadata": {
      "needs_background": "light"
     },
     "output_type": "display_data"
    }
   ],
   "source": [
    "cities_by_accident[:20].plot(kind='barh')"
   ]
  },
  {
   "cell_type": "code",
   "execution_count": 17,
   "metadata": {},
   "outputs": [],
   "source": [
    "sns.set_style(\"darkgrid\")"
   ]
  },
  {
   "cell_type": "code",
   "execution_count": 21,
   "metadata": {},
   "outputs": [
    {
     "data": {
      "text/plain": [
       "<AxesSubplot:xlabel='City', ylabel='Count'>"
      ]
     },
     "execution_count": 21,
     "metadata": {},
     "output_type": "execute_result"
    },
    {
     "data": {
      "image/png": "[encoded data removed]",
      "text/plain": [
       "<Figure size 432x288 with 1 Axes>"
      ]
     },
     "metadata": {},
     "output_type": "display_data"
    }
   ],
   "source": [
    "sns.histplot(cities_by_accident[:50])"
   ]
  },
  {
   "cell_type": "code",
   "execution_count": 22,
   "metadata": {},
   "outputs": [],
   "source": [
    "high_accident_cities = cities_by_accident[cities_by_accident >= 1000]\n",
    "low_accident_cities = cities_by_accident[cities_by_accident < 1000]"
   ]
  },
  {
   "cell_type": "code",
   "execution_count": 23,
   "metadata": {},
   "outputs": [
    {
     "data": {
      "text/plain": [
       "496"
      ]
     },
     "execution_count": 23,
     "metadata": {},
     "output_type": "execute_result"
    }
   ],
   "source": [
    "len(high_accident_cities)"
   ]
  },
  {
   "cell_type": "code",
   "execution_count": 24,
   "metadata": {},
   "outputs": [
    {
     "data": {
      "text/plain": [
       "11185"
      ]
     },
     "execution_count": 24,
     "metadata": {},
     "output_type": "execute_result"
    }
   ],
   "source": [
    "len(low_accident_cities)"
   ]
  },
  {
   "cell_type": "code",
   "execution_count": 27,
   "metadata": {},
   "outputs": [
    {
     "data": {
      "text/plain": [
       "<AxesSubplot:xlabel='City', ylabel='Count'>"
      ]
     },
     "execution_count": 27,
     "metadata": {},
     "output_type": "execute_result"
    },
    {
     "data": {
      "image/png": "[encoded data removed]",
      "text/plain": [
       "<Figure size 432x288 with 1 Axes>"
      ]
     },
     "metadata": {},
     "output_type": "display_data"
    }
   ],
   "source": [
    "sns.histplot(high_accident_cities,log_scale=True)"
   ]
  },
  {
   "cell_type": "code",
   "execution_count": null,
   "metadata": {},
   "outputs": [],
   "source": [
    "#StartTime"
   ]
  },
  {
   "cell_type": "code",
   "execution_count": 28,
   "metadata": {},
   "outputs": [
    {
     "data": {
      "text/plain": [
       "0          2016-02-08 00:37:08\n",
       "1          2016-02-08 05:56:20\n",
       "2          2016-02-08 06:15:39\n",
       "3          2016-02-08 06:51:45\n",
       "4          2016-02-08 07:53:43\n",
       "                  ...         \n",
       "2845337    2019-08-23 18:03:25\n",
       "2845338    2019-08-23 19:11:30\n",
       "2845339    2019-08-23 19:00:21\n",
       "2845340    2019-08-23 19:00:21\n",
       "2845341    2019-08-23 18:52:06\n",
       "Name: Start_Time, Length: 2845342, dtype: object"
      ]
     },
     "execution_count": 28,
     "metadata": {},
     "output_type": "execute_result"
    }
   ],
   "source": [
    "df.Start_Time"
   ]
  },
  {
   "cell_type": "code",
   "execution_count": 31,
   "metadata": {},
   "outputs": [],
   "source": [
    "df.Start_Time = pd.to_datetime(df.Start_Time)"
   ]
  },
  {
   "cell_type": "code",
   "execution_count": 32,
   "metadata": {},
   "outputs": [
    {
     "data": {
      "text/plain": [
       "0         2016-02-08 00:37:08\n",
       "1         2016-02-08 05:56:20\n",
       "2         2016-02-08 06:15:39\n",
       "3         2016-02-08 06:51:45\n",
       "4         2016-02-08 07:53:43\n",
       "                  ...        \n",
       "2845337   2019-08-23 18:03:25\n",
       "2845338   2019-08-23 19:11:30\n",
       "2845339   2019-08-23 19:00:21\n",
       "2845340   2019-08-23 19:00:21\n",
       "2845341   2019-08-23 18:52:06\n",
       "Name: Start_Time, Length: 2845342, dtype: datetime64[ns]"
      ]
     },
     "execution_count": 32,
     "metadata": {},
     "output_type": "execute_result"
    }
   ],
   "source": [
    "df.Start_Time"
   ]
  },
  {
   "cell_type": "code",
   "execution_count": 33,
   "metadata": {},
   "outputs": [],
   "source": [
    "df.Start_Time = pd.to_datetime(df.Start_Time)"
   ]
  },
  {
   "cell_type": "code",
   "execution_count": 35,
   "metadata": {},
   "outputs": [
    {
     "data": {
      "text/plain": [
       "0         2016-02-08 00:37:08\n",
       "1         2016-02-08 05:56:20\n",
       "2         2016-02-08 06:15:39\n",
       "3         2016-02-08 06:51:45\n",
       "4         2016-02-08 07:53:43\n",
       "                  ...        \n",
       "2845337   2019-08-23 18:03:25\n",
       "2845338   2019-08-23 19:11:30\n",
       "2845339   2019-08-23 19:00:21\n",
       "2845340   2019-08-23 19:00:21\n",
       "2845341   2019-08-23 18:52:06\n",
       "Name: Start_Time, Length: 2845342, dtype: datetime64[ns]"
      ]
     },
     "execution_count": 35,
     "metadata": {},
     "output_type": "execute_result"
    }
   ],
   "source": [
    "df.Start_Time"
   ]
  },
  {
   "cell_type": "code",
   "execution_count": 37,
   "metadata": {},
   "outputs": [
    {
     "data": {
      "text/plain": [
       "0           0\n",
       "1           5\n",
       "2           6\n",
       "3           6\n",
       "4           7\n",
       "           ..\n",
       "2845337    18\n",
       "2845338    19\n",
       "2845339    19\n",
       "2845340    19\n",
       "2845341    18\n",
       "Name: Start_Time, Length: 2845342, dtype: int64"
      ]
     },
     "execution_count": 37,
     "metadata": {},
     "output_type": "execute_result"
    }
   ],
   "source": [
    "df.Start_Time.dt.hour"
   ]
  },
  {
   "cell_type": "code",
   "execution_count": 43,
   "metadata": {},
   "outputs": [
    {
     "data": {
      "text/plain": [
       "<AxesSubplot:xlabel='Start_Time', ylabel='Count'>"
      ]
     },
     "execution_count": 43,
     "metadata": {},
     "output_type": "execute_result"
    },
    {
     "data": {
      "image/png": "[encoded data removed]",
      "text/plain": [
       "<Figure size 432x288 with 1 Axes>"
      ]
     },
     "metadata": {},
     "output_type": "display_data"
    }
   ],
   "source": [
    "sns.histplot(df.Start_Time.dt.hour,bins=24, kde=False)"
   ]
  },
  {
   "cell_type": "code",
   "execution_count": 50,
   "metadata": {},
   "outputs": [
    {
     "name": "stderr",
     "output_type": "stream",
     "text": [
      "C:\\ProgramData\\Anaconda3\\lib\\site-packages\\seaborn\\distributions.py:2551: FutureWarning: `distplot` is a deprecated function and will be removed in a future version. Please adapt your code to use either `displot` (a figure-level function with similar flexibility) or `histplot` (an axes-level function for histograms).\n",
      "  warnings.warn(msg, FutureWarning)\n"
     ]
    },
    {
     "data": {
      "text/plain": [
       "<AxesSubplot:xlabel='Start_Time'>"
      ]
     },
     "execution_count": 50,
     "metadata": {},
     "output_type": "execute_result"
    },
    {
     "data": {
      "image/png": "[encoded data removed]",
      "text/plain": [
       "<Figure size 432x288 with 1 Axes>"
      ]
     },
     "metadata": {},
     "output_type": "display_data"
    }
   ],
   "source": [
    "sundays_start_time = df.Start_Time[df.Start_Time.dt.dayofweek == 6]\n",
    "sns.distplot(sundays_start_time.dt.hour, bins=24, kde=False, norm_hist=True)"
   ]
  },
  {
   "cell_type": "code",
   "execution_count": 49,
   "metadata": {},
   "outputs": [
    {
     "data": {
      "text/plain": [
       "154       2016-02-14 03:58:33\n",
       "155       2016-02-14 05:26:58\n",
       "156       2016-02-14 16:30:40\n",
       "157       2016-02-14 16:38:40\n",
       "158       2016-02-14 17:40:17\n",
       "                  ...        \n",
       "2843129   2019-08-18 22:48:14\n",
       "2843130   2019-08-18 23:24:10\n",
       "2843243   2019-08-18 22:56:56\n",
       "2843244   2019-08-18 22:56:56\n",
       "2843282   2019-08-18 22:54:41\n",
       "Name: Start_Time, Length: 259274, dtype: datetime64[ns]"
      ]
     },
     "execution_count": 49,
     "metadata": {},
     "output_type": "execute_result"
    }
   ],
   "source": []
  },
  {
   "cell_type": "code",
   "execution_count": 51,
   "metadata": {},
   "outputs": [
    {
     "name": "stderr",
     "output_type": "stream",
     "text": [
      "C:\\ProgramData\\Anaconda3\\lib\\site-packages\\seaborn\\distributions.py:2551: FutureWarning: `distplot` is a deprecated function and will be removed in a future version. Please adapt your code to use either `displot` (a figure-level function with similar flexibility) or `histplot` (an axes-level function for histograms).\n",
      "  warnings.warn(msg, FutureWarning)\n"
     ]
    },
    {
     "data": {
      "text/plain": [
       "<AxesSubplot:xlabel='Start_Time'>"
      ]
     },
     "execution_count": 51,
     "metadata": {},
     "output_type": "execute_result"
    },
    {
     "data": {
      "image/png": "[encoded data removed]",
      "text/plain": [
       "<Figure size 432x288 with 1 Axes>"
      ]
     },
     "metadata": {},
     "output_type": "display_data"
    }
   ],
   "source": [
    "monday_start_time = df.Start_Time[df.Start_Time.dt.dayofweek == 0]\n",
    "sns.distplot(monday_start_time.dt.hour, bins=24, kde=False, norm_hist=True)"
   ]
  },
  {
   "cell_type": "code",
   "execution_count": null,
   "metadata": {},
   "outputs": [],
   "source": []
  },
  {
   "cell_type": "code",
   "execution_count": null,
   "metadata": {},
   "outputs": [],
   "source": []
  },
  {
   "cell_type": "code",
   "execution_count": 54,
   "metadata": {},
   "outputs": [
    {
     "data": {
      "text/plain": [
       "0          40.108910\n",
       "1          39.865420\n",
       "2          39.102660\n",
       "3          41.062130\n",
       "4          39.172393\n",
       "             ...    \n",
       "2845337    34.002480\n",
       "2845338    32.766960\n",
       "2845339    33.775450\n",
       "2845340    33.992460\n",
       "2845341    34.133930\n",
       "Name: Start_Lat, Length: 2845342, dtype: float64"
      ]
     },
     "execution_count": 54,
     "metadata": {},
     "output_type": "execute_result"
    }
   ],
   "source": [
    "df.Start_Lat"
   ]
  },
  {
   "cell_type": "code",
   "execution_count": 55,
   "metadata": {},
   "outputs": [
    {
     "data": {
      "text/plain": [
       "0          -83.092860\n",
       "1          -84.062800\n",
       "2          -84.524680\n",
       "3          -81.537840\n",
       "4          -84.492792\n",
       "              ...    \n",
       "2845337   -117.379360\n",
       "2845338   -117.148060\n",
       "2845339   -117.847790\n",
       "2845340   -118.403020\n",
       "2845341   -117.230920\n",
       "Name: Start_Lng, Length: 2845342, dtype: float64"
      ]
     },
     "execution_count": 55,
     "metadata": {},
     "output_type": "execute_result"
    }
   ],
   "source": [
    "df.Start_Lng"
   ]
  },
  {
   "cell_type": "code",
   "execution_count": 56,
   "metadata": {},
   "outputs": [],
   "source": [
    "sample_df = df.sample(int(0.1 * len(df)))"
   ]
  },
  {
   "cell_type": "code",
   "execution_count": 57,
   "metadata": {},
   "outputs": [
    {
     "data": {
      "text/plain": [
       "<AxesSubplot:xlabel='Start_Lng', ylabel='Start_Lat'>"
      ]
     },
     "execution_count": 57,
     "metadata": {},
     "output_type": "execute_result"
    },
    {
     "data": {
      "image/png": "[encoded data removed]",
      "text/plain": [
       "<Figure size 432x288 with 1 Axes>"
      ]
     },
     "metadata": {},
     "output_type": "display_data"
    }
   ],
   "source": [
    "sns.scatterplot(x=sample_df.Start_Lng, y=sample_df.Start_Lat, size=0.001)"
   ]
  },
  {
   "cell_type": "code",
   "execution_count": 59,
   "metadata": {},
   "outputs": [
    {
     "name": "stdout",
     "output_type": "stream",
     "text": [
      "Collecting folium\n",
      "  Downloading folium-0.13.0-py2.py3-none-any.whl (96 kB)\n",
      "Requirement already satisfied: jinja2>=2.9 in c:\\programdata\\anaconda3\\lib\\site-packages (from folium) (2.11.2)\n",
      "Requirement already satisfied: numpy in c:\\programdata\\anaconda3\\lib\\site-packages (from folium) (1.19.2)\n",
      "Collecting branca>=0.3.0\n",
      "  Downloading branca-0.6.0-py3-none-any.whl (24 kB)\n",
      "Requirement already satisfied: requests in c:\\programdata\\anaconda3\\lib\\site-packages (from folium) (2.24.0)\n",
      "Requirement already satisfied: MarkupSafe>=0.23 in c:\\programdata\\anaconda3\\lib\\site-packages (from jinja2>=2.9->folium) (1.1.1)\n",
      "Requirement already satisfied: idna<3,>=2.5 in c:\\programdata\\anaconda3\\lib\\site-packages (from requests->folium) (2.10)\n",
      "Requirement already satisfied: urllib3!=1.25.0,!=1.25.1,<1.26,>=1.21.1 in c:\\programdata\\anaconda3\\lib\\site-packages (from requests->folium) (1.25.11)\n",
      "Requirement already satisfied: certifi>=2017.4.17 in c:\\programdata\\anaconda3\\lib\\site-packages (from requests->folium) (2020.6.20)\n",
      "Requirement already satisfied: chardet<4,>=3.0.2 in c:\\programdata\\anaconda3\\lib\\site-packages (from requests->folium) (3.0.4)\n",
      "Installing collected packages: branca, folium\n",
      "Successfully installed branca-0.6.0 folium-0.13.0\n"
     ]
    }
   ],
   "source": [
    "!pip install folium"
   ]
  },
  {
   "cell_type": "code",
   "execution_count": 60,
   "metadata": {},
   "outputs": [],
   "source": [
    "import folium"
   ]
  },
  {
   "cell_type": "code",
   "execution_count": 62,
   "metadata": {},
   "outputs": [
    {
     "data": {
      "text/plain": [
       "(40.10891, -83.09286)"
      ]
     },
     "execution_count": 62,
     "metadata": {},
     "output_type": "execute_result"
    }
   ],
   "source": [
    "lat, lon = df.Start_Lat[0], df.Start_Lng[0]\n",
    "lat, lon"
   ]
  },
  {
   "cell_type": "code",
   "execution_count": 63,
   "metadata": {},
   "outputs": [
    {
     "name": "stdout",
     "output_type": "stream",
     "text": [
      "797232     37.692737\n",
      "1058353    30.862549\n",
      "1626899    34.030657\n",
      "784011     44.953291\n",
      "2007637    29.677542\n",
      "             ...    \n",
      "1169745    39.630635\n",
      "2651811    33.892770\n",
      "2658708    40.007170\n",
      "722056     38.286944\n",
      "1699014    38.596651\n",
      "Name: Start_Lat, Length: 100, dtype: float64\n",
      "797232    -122.082055\n",
      "1058353    -85.355883\n",
      "1626899   -117.615842\n",
      "784011     -93.079677\n",
      "2007637    -95.555668\n",
      "              ...    \n",
      "1169745    -77.809456\n",
      "2651811   -118.364080\n",
      "2658708    -83.118600\n",
      "722056    -112.650485\n",
      "1699014    -77.335341\n",
      "Name: Start_Lng, Length: 100, dtype: float64\n"
     ]
    }
   ],
   "source": [
    "for x in df[['Start_Lat', 'Start_Lng']].sample(100).iteritems():\n",
    "    print(x[1])"
   ]
  },
  {
   "cell_type": "code",
   "execution_count": 64,
   "metadata": {},
   "outputs": [
    {
     "data": {
      "text/plain": [
       "<zip at 0x2156d9dfa40>"
      ]
     },
     "execution_count": 64,
     "metadata": {},
     "output_type": "execute_result"
    }
   ],
   "source": [
    "zip(list(df.Start_Lat), list(df.Start_Lng))"
   ]
  },
  {
   "cell_type": "code",
   "execution_count": 65,
   "metadata": {},
   "outputs": [],
   "source": [
    "from folium.plugins import HeatMap"
   ]
  },
  {
   "cell_type": "code",
   "execution_count": 66,
   "metadata": {},
   "outputs": [],
   "source": [
    "sample_df = df.sample(int(0.001 * len(df)))\n",
    "lat_lon_pairs = list(zip(list(sample_df.Start_Lat), list(sample_df.Start_Lng)))"
   ]
  },
  {
   "cell_type": "code",
   "execution_count": 67,
   "metadata": {},
   "outputs": [
    {
     "data": {
      "text/html": [
       "<div style=\"width:100%;\"><div style=\"position:relative;width:100%;height:0;padding-bottom:60%;\"><span style=\"color:#565656\">Make this Notebook Trusted to load map: File -> Trust Notebook</span><iframe srcdoc=\"&lt;!DOCTYPE html&gt;\n",
       "&lt;html&gt;\n",
       "&lt;head&gt;\n",
       "    \n",
       "    &lt;meta http-equiv=&quot;content-type&quot; content=&quot;text/html; charset=UTF-8&quot; /&gt;\n",
       "    \n",
       "        &lt;script&gt;\n",
       "            L_NO_TOUCH = false;\n",
       "            L_DISABLE_3D = false;\n",
       "        &lt;/script&gt;\n",
       "    \n",
       "    &lt;style&gt;html, body {width: 100%;height: 100%;margin: 0;padding: 0;}&lt;/style&gt;\n",
       "    &lt;style&gt;#map {position:absolute;top:0;bottom:0;right:0;left:0;}&lt;/style&gt;\n",
       "    &lt;script src=&quot;https://cdn.jsdelivr.net/npm/leaflet@1.6.0/dist/leaflet.js&quot;&gt;&lt;/script&gt;\n",
       "    &lt;script src=&quot;https://code.jquery.com/jquery-1.12.4.min.js&quot;&gt;&lt;/script&gt;\n",
       "    &lt;script src=&quot;https://maxcdn.bootstrapcdn.com/bootstrap/3.2.0/js/bootstrap.min.js&quot;&gt;&lt;/script&gt;\n",
       "    &lt;script src=&quot;https://cdnjs.cloudflare.com/ajax/libs/Leaflet.awesome-markers/2.0.2/leaflet.awesome-markers.js&quot;&gt;&lt;/script&gt;\n",
       "    &lt;link rel=&quot;stylesheet&quot; href=&quot;https://cdn.jsdelivr.net/npm/leaflet@1.6.0/dist/leaflet.css&quot;/&gt;\n",
       "    &lt;link rel=&quot;stylesheet&quot; href=&quot;https://maxcdn.bootstrapcdn.com/bootstrap/3.2.0/css/bootstrap.min.css&quot;/&gt;\n",
       "    &lt;link rel=&quot;stylesheet&quot; href=&quot;https://maxcdn.bootstrapcdn.com/bootstrap/3.2.0/css/bootstrap-theme.min.css&quot;/&gt;\n",
       "    &lt;link rel=&quot;stylesheet&quot; href=&quot;https://maxcdn.bootstrapcdn.com/font-awesome/4.6.3/css/font-awesome.min.css&quot;/&gt;\n",
       "    &lt;link rel=&quot;stylesheet&quot; href=&quot;https://cdnjs.cloudflare.com/ajax/libs/Leaflet.awesome-markers/2.0.2/leaflet.awesome-markers.css&quot;/&gt;\n",
       "    &lt;link rel=&quot;stylesheet&quot; href=&quot;https://cdn.jsdelivr.net/gh/python-visualization/folium/folium/templates/leaflet.awesome.rotate.min.css&quot;/&gt;\n",
       "    \n",
       "            &lt;meta name=&quot;viewport&quot; content=&quot;width=device-width,\n",
       "                initial-scale=1.0, maximum-scale=1.0, user-scalable=no&quot; /&gt;\n",
       "            &lt;style&gt;\n",
       "                #map_9ef36bce0a56cfdec840fbbde134cb16 {\n",
       "                    position: relative;\n",
       "                    width: 100.0%;\n",
       "                    height: 100.0%;\n",
       "                    left: 0.0%;\n",
       "                    top: 0.0%;\n",
       "                }\n",
       "            &lt;/style&gt;\n",
       "        \n",
       "    &lt;script src=&quot;https://cdn.jsdelivr.net/gh/python-visualization/folium@main/folium/templates/leaflet_heat.min.js&quot;&gt;&lt;/script&gt;\n",
       "&lt;/head&gt;\n",
       "&lt;body&gt;\n",
       "    \n",
       "    \n",
       "            &lt;div class=&quot;folium-map&quot; id=&quot;map_9ef36bce0a56cfdec840fbbde134cb16&quot; &gt;&lt;/div&gt;\n",
       "        \n",
       "&lt;/body&gt;\n",
       "&lt;script&gt;\n",
       "    \n",
       "    \n",
       "            var map_9ef36bce0a56cfdec840fbbde134cb16 = L.map(\n",
       "                &quot;map_9ef36bce0a56cfdec840fbbde134cb16&quot;,\n",
       "                {\n",
       "                    center: [0, 0],\n",
       "                    crs: L.CRS.EPSG3857,\n",
       "                    zoom: 1,\n",
       "                    zoomControl: true,\n",
       "                    preferCanvas: false,\n",
       "                }\n",
       "            );\n",
       "\n",
       "            \n",
       "\n",
       "        \n",
       "    \n",
       "            var tile_layer_7355b50372d738daea79477d6036deac = L.tileLayer(\n",
       "                &quot;https://{s}.tile.openstreetmap.org/{z}/{x}/{y}.png&quot;,\n",
       "                {&quot;attribution&quot;: &quot;Data by \\u0026copy; \\u003ca href=\\&quot;http://openstreetmap.org\\&quot;\\u003eOpenStreetMap\\u003c/a\\u003e, under \\u003ca href=\\&quot;http://www.openstreetmap.org/copyright\\&quot;\\u003eODbL\\u003c/a\\u003e.&quot;, &quot;detectRetina&quot;: false, &quot;maxNativeZoom&quot;: 18, &quot;maxZoom&quot;: 18, &quot;minZoom&quot;: 0, &quot;noWrap&quot;: false, &quot;opacity&quot;: 1, &quot;subdomains&quot;: &quot;abc&quot;, &quot;tms&quot;: false}\n",
       "            ).addTo(map_9ef36bce0a56cfdec840fbbde134cb16);\n",
       "        \n",
       "    \n",
       "            var heat_map_ed7212c1573fbc87dd7799188db005e6 = L.heatLayer(\n",
       "                [[25.818544, -80.24668100000002], [45.392056, -94.701737], [41.458, -83.62201999999998], [42.352569, -122.872931], [32.531086, -96.791679], [33.693465, -78.883346], [25.884795, -80.243217], [42.030036, -122.603576], [39.937027, -76.726421], [37.002598, -121.709564], [28.016703000000003, -82.789851], [40.77835, -76.895462], [30.421284000000004, -91.12477], [38.796554, -77.336851], [29.72345300000001, -90.800183], [32.58891, -117.03647], [31.61275, -81.879051], [36.1914, -86.181317], [26.399045, -80.09034399999999], [47.464467, -122.243231], [30.269941, -97.749513], [45.511432, -122.705537], [34.199134, -117.371901], [38.667591, -77.26934200000002], [28.449055, -81.470923], [40.079758, -75.168316], [27.94942, -82.35368199999998], [33.70985, -84.24579], [33.21359, -117.389076], [33.49726, -117.148665], [40.69649, -73.98040999999998], [32.766409, -96.914306], [45.62143, -122.67339], [34.238316, -80.661364], [41.85108, -87.72475], [39.178481, -120.8539], [37.502914, -122.331551], [28.398632, -82.660697], [35.176103000000005, -80.874909], [33.766155, -84.502121], [36.993875, -76.628695], [27.915432, -82.34976400000002], [36.375327, -80.516215], [29.70021400000001, -95.241866], [37.333205, -76.753739], [39.106631, -94.591272], [39.429601, -76.386324], [46.875436, -113.886351], [34.068179, -117.848822], [28.333040000000004, -81.4786], [33.727, -84.50272], [35.559192, -119.197357], [30.103472, -90.490936], [38.646211, -121.340196], [27.712628, -82.330678], [33.779002, -117.894491], [33.458207, -112.108], [46.070601, -94.866501], [38.766895, -90.495399], [47.40638, -92.92457], [30.046943, -89.9624], [39.725699, -104.849767], [41.656441, -87.727776], [30.441942, -88.528623], [35.40168, -96.38145], [34.49964600000001, -118.382028], [40.70992, -111.79463], [36.649337, -82.086048], [27.756694, -82.64660500000002], [33.94661, -117.29843], [29.952558000000003, -90.101633], [42.915792, -122.434284], [42.885155, -73.887941], [26.481943, -80.172726], [33.88191, -117.58249], [36.79089000000001, -119.78423], [45.496518, -122.54801], [44.30508, -88.73888000000002], [39.005852, -77.074016], [29.737232, -95.540819], [32.066592, -81.136741], [27.136541, -80.28786], [41.100238, -73.797107], [43.168753, -77.601677], [38.45809600000001, -121.180642], [34.029546, -118.067458], [40.09024, -74.21634], [37.006156, -76.320481], [40.240727, -75.303001], [40.80512, -74.18446999999998], [37.610613, -122.392564], [39.591274, -123.779013], [33.153040000000004, -117.20155], [33.796037, -117.895671], [38.92452, -76.93041], [41.352092, -75.346901], [33.238545, -110.783761], [38.941951, -94.785822], [39.158631, -77.228318], [28.450912, -81.46547199999998], [38.470271, -121.334911], [40.57327, -111.97708], [33.96955, -118.28061], [33.989389, -117.360173], [34.111995, -118.265462], [29.43405, -98.49737], [26.524, -80.07266], [30.416106, -81.740032], [33.946521999999995, -118.093957], [25.984755, -80.165705], [29.857301, -95.369311], [37.552988, -77.48010699999998], [34.724725, -92.321053], [44.961239, -93.090345], [35.374902, -118.967423], [35.025011, -80.82052], [38.40957, -105.584809], [33.8315, -118.084277], [34.769135, -92.358226], [37.64015, -122.0904], [28.359907, -80.79449699999998], [43.12476, -75.594617], [34.068594, -117.243703], [45.00116, -93.22681], [40.315521, -79.53752800000002], [42.892481, -78.891867], [40.607002, -74.04356999999997], [39.093017, -94.487848], [45.289445, -122.998293], [25.682907, -80.41640799999998], [34.00354, -117.93046499999998], [38.880629, -77.002043], [41.93739, -87.70408], [39.986276, -76.66857399999998], [34.24973, -117.442178], [40.833703, -77.970024], [25.655102, -80.41565899999998], [37.808253, -122.366974], [25.899721, -80.180184], [28.436223, -81.368478], [26.76417, -80.09335], [37.754238, -77.457903], [33.47299, -86.82856], [30.446881, -87.21684300000004], [32.763658, -117.16125900000002], [30.415721, -91.069192], [28.415111, -81.422667], [40.115118, -75.34604200000003], [33.97432, -118.12412], [32.272397999999995, -111.008852], [33.92687, -118.10373], [37.318246, -79.188548], [33.685269, -117.896558], [35.50122, -80.56265], [38.87687, -91.381927], [33.562798, -117.668005], [38.575261, -121.508327], [33.663291, -114.217147], [27.79660100000001, -82.661958], [35.484927, -119.009066], [35.441653, -119.251826], [37.54262, -77.37195], [29.772359, -95.326319], [44.773114, -122.554751], [43.5246, -123.31161000000002], [38.99848, -94.50236], [43.548271, -73.405553], [39.82424, -104.96196], [38.911556, -78.073824], [25.812457, -80.24400899999998], [40.725148, -73.93239799999998], [25.702017, -80.340057], [36.86647, -119.684027], [34.113409000000004, -80.891848], [35.349407, -82.452687], [37.511362, -121.937633], [34.41246, -84.293307], [41.233588, -76.994794], [33.950622, -118.103008], [42.08213, -88.33904], [45.491958, -123.654472], [45.17794, -93.11814], [45.105209, -122.888527], [26.618666, -81.767749], [32.861740000000005, -96.65757], [33.80621, -117.23431], [37.11192, -121.015658], [35.788637, -78.647701], [32.847386, -96.703806], [25.781586, -80.32864000000002], [28.736726, -81.919201], [38.81478, -76.955578], [42.57381, -85.26326], [35.825097, -78.75210899999998], [41.376477, -112.042572], [36.688703, -121.655699], [40.03887, -75.475584], [37.701054, -122.02541399999998], [38.805848, -76.993957], [30.078665, -96.095905], [47.44532, -122.21662], [40.197631, -75.249185], [32.82453, -96.629913], [30.358793, -97.668844], [33.871076, -117.742707], [33.348811, -117.118034], [42.615785, -124.396385], [47.57861, -122.20205], [36.184021, -86.77551600000002], [41.163979, -73.379906], [34.037, -118.37748], [45.082726, -93.40229], [33.967464, -118.160631], [33.461447, -112.385169], [38.26825, -85.99383], [33.779583, -84.390866], [40.602502, -75.553107], [45.515485, -122.693263], [39.998592, -76.736379], [25.582591, -80.365905], [35.25255999999999, -82.24804], [35.120404, -78.189836], [38.93501, -94.7362], [32.295753999999995, -95.261853], [34.266432, -118.472281], [38.969335, -77.62290300000002], [33.910488, -117.88369099999998], [34.47374, -117.12531], [28.40763, -81.42496899999998], [38.465888, -77.406875], [35.843978, -78.568637], [42.30556, -87.95983000000004], [35.288088, -80.759709], [45.15743300000001, -92.996336], [40.6783, -111.901729], [39.693371, -76.875548], [29.77292700000001, -95.326344], [43.98887, -121.33726], [32.661359999999995, -97.28016], [28.546886, -81.41382], [29.499240000000004, -95.11167], [28.672772, -81.388951], [34.039445, -118.589154], [38.34667, -77.500277], [28.19167, -82.46588], [36.114951, -86.821148], [42.384784, -83.243037], [27.01615, -82.04568], [35.825296, -78.620232], [30.207243, -97.815298], [35.406618, -119.048744], [34.673012, -77.711673], [39.544631, -76.392228], [25.548085, -80.374152], [34.025826, -118.249269], [39.18736, -77.68002], [38.639699, -77.348116], [44.942424, -93.398999], [39.77308, -104.83396], [41.11425, -112.014], [39.784313, -105.11306], [40.585201, -122.360733], [25.869362, -80.20448499999998], [45.2317, -118.01288], [41.57381, -73.77998000000002], [34.725502, -82.487785], [36.838666, -76.09705600000002], [33.074051000000004, -111.701205], [37.752049, -121.467835], [39.59611, -76.06092], [43.02276, -73.83904], [47.445602, -94.888985], [25.522097, -80.477944], [41.83877, -87.63034], [35.75798, -78.61121], [37.54463, -77.42836], [33.984387, -118.354225], [36.993811, -76.420061], [44.570755, -69.662704], [33.484575, -112.113181], [34.066661, -117.251275], [44.37325300000001, -93.294085], [35.089369, -80.853755], [29.89429, -90.10006], [38.904319, -77.017602], [40.443533, -75.371565], [42.24152, -88.00413], [44.86607, -93.202955], [44.872893, -122.871795], [42.97806, -71.47100999999998], [33.994238, -117.889177], [38.462136, -121.408211], [34.350224, -118.504081], [41.461724, -72.777469], [43.1219, -76.15956], [35.119962, -80.72778000000002], [38.246, -122.4389], [37.996807, -78.298895], [25.695549, -80.400307], [34.224154, -79.792393], [34.035868, -118.099322], [35.01171, -81.9573], [29.82149, -81.37706], [40.478849, -104.641967], [33.623599, -117.269923], [35.82040999999999, -78.59291], [33.107439, -112.025774], [42.422918, -123.20295], [25.90679, -80.235796], [42.427192, -123.319848], [39.203543, -120.796353], [30.43078400000001, -91.056913], [41.08583, -73.459106], [34.150526, -117.33548], [35.252466, -118.90115], [41.53921, -81.61459], [27.91971, -82.60977], [33.921267, -118.029092], [35.118132, -80.725818], [45.52669, -122.6645], [44.874268, -93.079036], [25.73433, -80.286569], [37.716051, -121.707559], [37.821613, -122.330131], [38.115805, -121.24266], [25.626174, -80.415521], [43.110056, -75.218372], [34.025302, -118.428941], [37.670373, -122.102898], [37.777744, -77.884687], [44.939756, -93.39697], [41.987844, -87.846496], [38.55374000000001, -121.40869], [40.28114, -85.55816], [40.677128, -76.89911500000002], [46.066735, -97.032376], [32.729508, -117.106882], [35.78085, -80.25904200000002], [33.81423, -118.17156], [33.94004, -84.15463000000003], [31.330842, -89.352153], [33.93433, -118.176917], [38.55159, -122.65054], [32.794414, -96.754968], [25.8444, -80.20666999999997], [34.120351, -119.088304], [40.03845, -76.30136], [39.75642, -84.20330600000001], [32.28472, -111.021261], [27.818352, -82.679461], [33.885937, -117.348729], [41.599396, -72.754196], [40.22326, -76.71443000000002], [32.84635, -117.118281], [27.51874500000001, -81.459707], [39.973988, -75.58419], [43.057204, -83.839364], [33.925834, -118.212515], [42.362026, -83.07840300000002], [43.79969000000001, -117.937921], [33.599905, -117.687066], [40.728394, -73.928476], [35.27132, -80.85425], [30.298737, -81.768761], [39.847481, -75.70917800000002], [33.76488, -84.51972099999998], [34.13404, -117.67607], [38.85781400000001, -77.779782], [33.50195, -84.22685], [33.65294, -84.4975], [40.730699, -111.759764], [37.5653, -121.901196], [27.258812, -82.480949], [34.030698, -118.258155], [43.691972, -124.066575], [44.86555, -93.29878], [32.169264, -81.212936], [46.747651, -100.839399], [25.809056, -80.241633], [30.037395, -90.007063], [48.905206, -115.022548], [34.466978999999995, -118.325699], [40.962211, -73.736278], [37.333128, -121.935189], [39.52373, -119.78379], [29.954021, -90.082395], [36.722949, -119.790195], [39.837835, -75.41360999999998], [25.88268, -80.25891], [40.065972, -75.315214], [36.78559, -76.40599], [36.778886, -81.75103399999998], [45.58885, -93.79029], [38.460913, -121.495066], [44.717832, -93.282287], [25.653685, -80.402411], [44.77957, -93.217242], [34.12871, -117.93862], [34.233174, -117.420194], [33.847833, -117.855511], [33.55239, -83.36246], [34.999855, -118.160072], [38.415852, -82.29061], [42.42221, -83.00411], [25.961542, -80.146741], [41.69835, -87.59477], [35.91517, -78.6867], [36.84489600000001, -76.26912800000002], [35.209668, -111.522736], [36.15766, -86.77098000000002], [30.286822, -81.525171], [37.72126, -121.65607], [39.420694, -76.644841], [39.30935, -76.531802], [34.787688, -92.101451], [34.441975, -84.9201], [32.755558, -117.20531499999998], [37.979634, -122.317366], [32.594728, -96.822354], [40.718346, -111.889411], [33.40787, -111.6327], [38.164464, -120.405338], [28.550739, -81.28590799999998], [34.048471, -117.158741], [42.953264, -85.588672], [33.743797, -117.442756], [47.23616, -122.42307], [34.01984, -84.559053], [34.002034, -118.066518], [33.386474, -111.782318], [33.8844, -118.35239], [35.8412, -78.577112], [39.76405, -105.63531], [32.1337, -111.0374], [40.025542, -75.02815600000002], [33.871908000000005, -117.687093], [44.447368, -119.405282], [34.117196, -117.857461], [25.899633, -80.18226999999997], [37.79222, -122.20324], [34.184087, -118.399851], [34.053272, -117.547928], [37.306524, -120.500543], [37.66331, -122.105923], [39.01535, -94.49709], [38.036545, -122.536704], [34.201526, -79.77804], [47.290722, -122.313557], [26.542968, -81.83934], [32.76208, -117.065947], [25.747826, -80.331836], [36.749493, -119.79894], [33.945839, -117.069246], [40.635077, -74.235449], [33.663558, -117.794717], [42.739628, -123.371288], [27.598546, -80.505913], [36.197866, -119.233256], [26.008039, -80.340088], [35.79734000000001, -78.57757], [32.776712, -117.135726], [25.720163, -80.38369], [33.968167, -118.167854], [25.631575, -80.38255799999997], [43.624349, -72.200818], [35.92243300000001, -78.54401800000002], [41.924179, -73.91226400000002], [43.173832, -77.701572], [36.64345, -121.578362], [25.74765, -80.319789], [40.69656, -112.02486], [33.661528000000004, -86.57069399999996], [38.625537, -90.164569], [26.677857, -80.06952], [28.526290000000003, -81.38615], [25.885677, -80.21075400000002], [33.19018, -111.998308], [46.453123, -92.729618], [34.383934, -118.57383], [36.159375, -86.781003], [42.49506, -88.59942], [44.01667, -121.31908], [34.892429, -85.074714], [35.163378, -80.87602199999998], [41.448429, -71.786225], [35.000341, -85.267078], [45.533913, -122.58028], [25.469672, -80.500839], [29.611004, -95.261828], [41.55654000000001, -73.05566], [40.788314, -73.778122], [28.771567, -82.08709499999998], [40.212399, -79.74146999999998], [29.689124, -95.570567], [26.547024, -81.812505], [37.70113, -121.822191], [43.524581, -119.820553], [28.386946, -80.706249], [45.161072, -93.283356], [34.121347, -118.479416], [44.68592, -93.29327], [33.893188, -118.266451], [26.62122, -81.59785500000002], [25.895551, -80.190748], [37.81053, -122.36464], [33.84332, -117.53425], [35.99686, -86.68989], [40.80334000000001, -76.582227], [37.982395, -121.271777], [37.555192, -77.40794100000002], [30.412344, -87.337038], [42.90931, -85.67683000000002], [34.360907, -118.505739], [28.550705, -81.447503], [36.053679, -86.714901], [37.379274, -120.617197], [33.02762, -83.91364], [40.69987, -111.87134], [28.091708, -82.454463], [38.67323, -121.640968], [41.100744, -73.956924], [25.939205, -80.294666], [26.20001, -80.29574699999998], [35.46174, -80.58941999999998], [25.796496, -80.239956], [41.043437, -73.57226], [25.793279, -80.239584], [37.778457, -119.076475], [26.182748, -80.152419], [28.493792, -81.459929], [32.304015, -111.028883], [43.161623, -77.623776], [25.879942, -80.339908], [36.863942, -121.57698899999998], [33.903574, -118.194981], [33.909603999999995, -98.519557], [43.35896, -121.74232], [33.820454999999995, -118.293613], [33.639817, -91.402297], [45.06841, -93.25782], [34.229109, -117.416299], [40.80486, -76.964469], [40.8414, -76.58483000000003], [33.980323, -118.142766], [37.28778, -120.433534], [25.566087, -80.400315], [41.650502, -93.590859], [42.48892, -83.08129], [44.685913, -93.293248], [34.02487, -118.167301], [36.751555, -119.677693], [37.78534000000001, -122.192427], [34.04064, -118.05755], [33.300914, -87.62755200000002], [34.029067, -118.213309], [38.241278, -122.269108], [39.135886, -77.164996], [33.933609999999994, -84.16329], [34.610209999999995, -79.674715], [33.99771, -118.0683], [38.800354, -77.325513], [25.961453, -80.229457], [33.100555, -117.090047], [42.94938, -87.93464], [40.11187, -83.015927], [27.69622, -80.89494], [40.064788, -75.141876], [36.152299, -86.797432], [37.930756, -78.091151], [32.88421, -96.69716], [38.801549, -77.112085], [34.066514, -117.457729], [29.448663, -98.515358], [45.4989, -122.51384], [42.576256, -114.171184], [32.909716, -96.44946], [44.65571, -123.0606], [33.978014, -117.841863], [45.492824, -118.41365], [25.814494, -80.205984], [36.06165, -79.38892], [42.94885, -93.350905], [26.008238, -80.16659200000002], [40.537257, -111.893277], [25.69891, -80.38217900000002], [34.129034000000004, -86.410538], [40.478788, -104.526749], [32.910038, -96.898088], [47.56082, -122.2932], [40.296703, -76.881068], [37.37581, -84.32653], [33.001616, -117.081893], [35.153149, -90.05653000000002], [43.558694, -72.141836], [33.767048, -117.976266], [36.254787, -119.708995], [34.186175, -79.769646], [33.57116, -84.52994], [38.582497, -121.361296], [38.012719, -121.87192], [38.335956, -122.322284], [29.756308, -81.34978199999998], [40.096105, -75.284849], [44.590418, -123.06177], [28.466979, -81.417537], [33.8825, -117.64406], [41.363929, -82.076032], [34.21188, -81.35020300000002], [26.098934, -80.253213], [25.688289, -80.327775], [44.94904, -92.862669], [25.94091, -80.19037], [33.827012, -117.525837], [37.77781, -122.16759], [33.888793, -117.512423], [39.07015, -84.51987199999998], [38.417098, -82.45772], [45.093564, -93.868852], [44.94848, -93.34801], [34.129227, -79.72014300000002], [44.97062, -93.29813], [45.302971, -121.776784], [41.070856, -73.875511], [39.07441, -76.631108], [38.521081, -78.776983], [32.759840000000004, -97.17846], [42.988595, -87.888374], [28.57905, -81.476118], [37.839346, -112.869352], [34.274392, -118.376287], [25.766336, -80.200118], [35.75701, -78.661], [40.71454, -73.952742], [45.54096, -122.67928], [25.749454, -80.335813], [30.433363, -97.890282], [35.845486, -78.910852], [34.084097, -117.300182], [32.75873, -117.12627], [41.71459, -87.63879], [34.033570000000005, -117.689561], [34.922918, -81.98340300000002], [36.735781, -119.619], [30.442997, -81.72131800000002], [35.186366, -80.73695500000002], [38.496086, -121.391741], [37.116891, -109.957083], [44.428185, -121.728994], [25.8685, -80.227092], [40.845097, -73.91892299999998], [30.63799, -90.5242], [34.1061, -117.982724], [34.27262, -118.55966], [42.954107, -85.67178299999998], [38.31298, -81.55909], [34.787856, -92.293722], [33.56103, -117.658495], [32.780637, -117.113176], [33.77194, -84.54692], [25.927232, -80.15359699999998], [33.87072, -117.74486], [25.731159, -80.335665], [38.647415, -121.06653], [30.474268, -91.167137], [41.60628, -87.70325], [34.99543, -85.23536999999997], [40.068096, -75.147646], [30.457735, -91.064563], [29.94299, -90.082624], [33.894042, -118.193256], [36.06865, -79.35821], [38.560809000000006, -121.462451], [47.241445, -122.390766], [28.604356, -81.307514], [27.816347, -82.664889], [28.199532, -82.723405], [36.150051, -86.858331], [34.106595, -117.881476], [40.06373, -75.32651], [25.798431, -80.337148], [27.44775, -82.57866800000002], [40.28157, -74.08372], [34.025363, -118.20578700000002], [39.19452, -76.68884], [27.903095, -82.636016], [30.501831, -91.087398], [28.48624, -81.44006], [33.69771, -84.42095], [25.598639, -80.35282], [36.844253, -76.19641899999998], [40.887583, -111.896663], [28.53964, -81.30699], [38.396755, -78.91062099999998], [37.41561, -77.64236], [38.702511, -76.876437], [30.357472, -97.745743], [40.473052, -74.409401], [30.13123, -95.44427], [45.008007, -123.400224], [34.216706, -82.168323], [33.563092, -84.538689], [33.218902, -111.8125], [37.18308, -93.35021], [28.622174, -81.364366], [32.91722, -96.76663], [35.28793, -80.85826999999998], [35.41520999999999, -80.67572], [45.70408, -109.54651], [33.933446, -118.309041], [34.416142, -79.415584], [33.487137, -117.074647], [40.56546, -74.55368299999998], [42.38478900000001, -83.171603], [40.749586, -74.120024], [37.39485300000001, -121.13668], [34.11854, -117.8654], [38.239857, -122.078799], [40.11769, -75.359566], [42.08734000000001, -87.86716], [30.062675, -97.709], [40.573695, -75.87326], [37.216175, -76.59711899999998], [38.61909, -90.28509], [37.768667, -122.153924], [45.214631, -93.851305], [44.26918, -121.21954], [40.34657, -111.26784], [38.64047, -121.52498], [39.892848, -75.225909], [34.062161, -80.94195699999999], [40.628224, -75.28058399999998], [25.953848, -80.151037], [25.945874, -80.186314], [36.52371, -121.81004], [34.071017, -118.049415], [40.08923, -83.02946], [47.46886, -122.20892], [32.921489, -96.819151], [45.457658, -92.99254], [34.063706, -117.544795], [38.621191, -77.29609599999998], [41.89003, -87.708416], [37.617977, -120.845696], [41.67601, -73.50779], [38.24465, -77.49903], [35.245161, -85.834487], [41.170374, -75.426346], [36.352128, -86.93717600000002], [28.472089, -81.43588000000003], [37.76477, -121.38807], [32.635622999999995, -96.86561], [44.431384, -120.478792], [33.871576, -118.194232], [26.09356, -80.226813], [34.21417, -118.232729], [42.371032, -83.054363], [42.669664, -73.73754100000002], [41.552728, -72.10624399999998], [32.84623, -117.17119], [35.916715, -87.606578], [40.90314, -74.095069], [30.403622, -81.564785], [34.115786, -117.295341], [33.83143, -117.8346], [30.445841, -87.287736], [35.007771000000005, -85.380055], [26.603054, -81.629212], [25.809745, -80.333298], [45.193208, -93.394187], [38.439802, -78.852908], [40.11964, -75.35566], [38.841465, -77.43102900000002], [25.688161, -80.33259699999998], [42.19288, -86.16212], [44.757145, -122.309901], [33.6888, -84.40005699999998], [33.696541, -117.86382], [41.053139, -73.822386], [36.792254, -119.700235], [30.739561, -98.235233], [32.9242, -96.75759], [43.168185, -77.593603], [45.06884, -93.26336], [34.1397, -80.917187], [25.702121, -80.337124], [41.242287, -79.425587], [28.031058, -82.454836], [30.176793, -82.68717099999998], [34.068699, -117.606476], [33.61075, -112.13488999999998], [34.457742, -118.617403], [39.913015, -86.083826], [34.821612, -82.284743], [35.298538, -80.99749399999997], [26.433631, -80.08944100000002], [45.07598, -93.32973], [25.939683, -80.281361], [33.773786, -118.005718], [37.03605, -121.31207], [29.78401, -95.497063], [34.13547, -117.96559], [33.999384, -117.353493], [34.041592, -117.155261], [43.077634, -77.553988], [28.37177, -81.29812], [45.025244, -123.44651299999998], [33.23486, -87.576685], [45.29770300000001, -94.920589], [39.475325, -76.84094300000002], [40.717383, -111.985018], [38.654379, -120.949108], [39.01677, -76.91141], [34.05968, -118.0013], [39.196103, -75.787598], [25.90354, -80.21027], [27.97727, -82.738433], [35.228703, -80.8677], [29.659516, -82.403616], [32.66111, -97.25457], [39.114604, -121.634636], [40.19363, -74.10063000000002], [32.1952, -110.8927], [41.77681, -71.42644200000002], [36.734386, -120.223399], [33.859798, -118.309462], [27.94807, -82.451351], [29.91881, -90.119629], [33.989272, -117.889248], [40.575717, -75.547174], [34.384111, -118.568291], [35.0878, -80.84506999999998], [41.543132, -73.074816], [44.92474, -93.45139], [33.603975, -117.171503], [42.08417, -74.01307], [39.325507, -74.61533100000003], [33.936077000000004, -118.092997], [36.275284, -79.943213], [39.95913, -75.605692], [33.804946, -118.351035], [36.855293, -76.317401], [33.672321999999994, -111.995651], [37.785941, -121.200174], [35.5579, -97.6384], [40.73706, -73.93108000000002], [33.058215999999994, -117.258972], [36.435073, -121.339756], [36.17694, -115.1518], [45.47019, -122.68793], [34.025634000000004, -118.23659], [40.532459, -74.224115], [33.79483, -118.10495], [36.22877, -94.17796], [25.930859, -80.305963], [32.860943, -96.770407], [40.074581, -76.29104699999998], [32.880113, -96.821132], [35.383540999999994, -119.121176], [35.377198, -82.477698], [47.52157, -122.26999], [27.251256, -82.497661], [40.65608, -111.88865], [40.85911, -111.90442], [40.911392, -73.785105], [26.545553, -81.83922199999998], [33.296738, -117.461892], [40.29113, -79.91393000000002], [34.320875, -118.495832], [45.500074, -122.67768999999998], [33.000011, -112.461522], [37.246107, -93.282127], [34.064719000000004, -117.610975], [34.404167, -118.451778], [28.492993, -81.243117], [34.033627, -118.389555], [40.652432, -122.93391499999998], [37.784842, -121.187957], [29.658114, -95.372718], [32.686809999999994, -117.092285], [35.79846, -78.56295], [27.446154, -82.476114], [35.125007000000004, -81.5625], [44.951627, -93.126271], [38.128808, -79.03678599999998], [45.31885, -92.93127], [28.189554, -82.398387], [39.887284, -74.742337], [34.429868, -119.288322], [32.68178, -96.66176], [38.48171, -121.510678], [25.64872, -80.40312800000002], [40.697841, -111.901606], [39.959797, -75.178168], [30.1915, -81.705612], [40.126516, -86.517551], [42.01919, -88.26907], [38.863546, -121.97061200000002], [36.08634, -115.2079], [42.391981, -87.857033], [38.49465900000001, -121.40897], [37.58136, -77.469545], [37.529323, -121.177004], [37.126838, -120.25209], [43.15221, -76.12442], [32.434963, -93.713821], [40.91492, -73.783], [41.514641, -74.072924], [39.855459, -82.818517], [33.951797, -117.30331], [34.135175, -117.599169], [39.631827, -106.288231], [26.938877, -82.347071], [25.746361, -80.385963], [33.48134, -84.21684499999998], [37.213023, -121.726581], [34.038218, -118.219626], [34.071662, -118.134714], [41.75523, -87.57607], [39.83049000000001, -74.926923], [28.396025, -81.244262], [41.92362, -88.03796], [37.518149, -77.426415], [47.85799, -121.83099], [28.530647, -81.38608599999998], [41.416002, -73.366232], [38.595789, -121.382892], [34.121781, -81.199559], [29.566466, -98.591929], [30.441023, -97.669171], [33.130984999999995, -117.083328], [34.690118, -117.871924], [41.96953, -87.75901], [34.024031, -117.770929], [46.752837, -112.180504], [30.410593, -91.147034], [29.770084000000004, -95.215638], [34.254414000000004, -84.34818800000002], [44.59038, -117.46663999999998], [37.178131, -76.552959], [27.300589, -82.530446], [34.03496, -118.33759], [33.797303, -117.877689], [33.88216, -117.545823], [35.31, -80.83896], [30.317169, -81.73570699999998], [46.556581, -95.795911], [40.678972, -75.33851899999998], [25.942296, -80.30827], [34.220490000000005, -118.35739], [38.55518, -90.4168], [37.694397, -121.920222], [39.10543, -121.5534], [32.857758000000004, -117.184484], [30.441023, -97.669171], [39.869938, -75.101241], [37.784525, -77.891961], [29.973167, -90.059117], [38.43707, -87.09184], [42.269427, -83.213841], [35.346676, -119.024537], [30.381113, -83.303178], [38.446622, -121.915581], [40.070908, -75.12044300000002], [36.964455, -119.518105], [40.72748, -73.44429000000002], [33.868565999999994, -117.758776], [29.870823, -95.418493], [41.181804, -112.058745], [34.033258000000004, -118.129721], [43.021299, -82.455492], [44.833026, -94.712074], [29.780537, -95.420118], [33.846315999999995, -117.862084], [29.98729, -95.42376], [44.77821, -93.21707], [26.26943, -80.1258], [25.879088, -80.242834], [39.2693, -77.15235], [36.245517, -86.745928], [33.173918, -87.472554], [37.837208, -122.264085], [42.00715, -88.20326], [34.102709999999995, -118.19758], [37.831228, -122.215482], [28.309524, -82.678713], [40.482134, -111.900919], [28.348577, -81.67436500000002], [33.625572, -84.400036], [39.833233, -84.29812700000002], [39.073616, -76.93211600000002], [25.889296, -80.16624300000002], [34.081233000000005, -118.30045], [46.783182, -92.100467], [25.670115, -80.43991], [33.998726, -117.931011], [32.707056, -96.623102], [26.18539, -98.08013], [38.01756, -77.51501], [28.555682, -81.413963], [30.506661, -87.163108], [39.91971, -86.10597], [25.941422, -80.19295], [43.032747, -82.456296], [33.16897, -117.21754], [30.191513, -81.69936700000002], [30.510435, -84.373848], [40.586661, -122.380152], [33.72761, -117.378739], [44.269191, -121.213996], [34.295829, -117.455402], [36.04842, -95.886304], [41.95306, -88.1205], [39.804289, -75.472916], [35.29022, -80.73362900000002], [29.93335200000001, -90.116114], [27.93539, -82.56713], [39.931395, -75.145808], [40.682384000000006, -80.22880500000002], [34.504831, -117.295173], [36.48415, -80.75091], [35.298363, -81.019188], [38.55823, -121.38529], [38.935558, -94.612118], [40.67997, -111.90227], [25.580313, -80.409173], [47.586964, -122.179467], [32.23547, -110.82516499999998], [37.40328, -122.04709], [40.345177, -122.463307], [39.01409, -76.860242], [43.05815, -76.18181], [38.89775, -76.061593], [32.1391, -84.68817], [34.572418, -118.691622], [42.246226, -123.632203], [46.672142, -113.158611], [40.68616, -73.713401], [35.369722, -119.0425], [33.60303, -80.256977], [35.88474, -78.82061], [34.644024, -79.586541], [28.56703, -81.209618], [42.39696, -83.21805], [30.478316, -91.166793], [34.229561, -118.248651], [37.3679, -77.41735], [41.237503, -75.91724599999998], [40.966933, -111.891063], [33.893625, -118.047021], [37.975394, -121.264323], [37.728617, -121.944331], [30.634485, -84.169374], [35.20212, -80.78858000000002], [36.07765300000001, -86.76635999999998], [36.986043, -121.9469], [31.537939, -90.479997], [40.68648, -73.61314], [27.051188, -82.39738299999998], [33.774021000000005, -84.564245], [38.22488, -122.1259], [34.753132, -92.367215], [33.682901, -117.85709], [39.1565, -84.54664], [33.20125, -117.37446], [33.663554, -117.79464], [43.129149, -75.540689], [39.936583, -77.054767], [39.72932, -121.811869], [37.923497, -122.513162], [42.09824, -87.86797], [39.139369, -77.547358], [28.423429, -81.404779], [32.75926, -97.21769], [28.14964, -82.697583], [25.669501, -80.41622199999998], [38.642178, -121.38318], [41.252968, -78.508018], [44.56066, -124.070333], [34.179271, -118.395205], [25.82996, -80.32203], [32.354918, -86.32147900000002], [38.710103, -77.847787], [35.310853, -80.71293299999998], [38.80124, -90.64792], [40.218962, -75.543239], [36.808061, -121.721673], [30.320495, -81.726648], [30.14392, -97.805908], [35.850465, -78.799044], [34.062647, -118.248633], [33.85535, -117.97035], [37.34712, -121.85935], [35.024306, -85.318481], [42.72878, -73.79398], [43.11676, -89.3246], [35.008025, -85.327522], [27.184344, -80.32025], [34.799591, -92.307912], [42.917471, -85.67955500000002], [44.269295, -121.159204], [42.978316, -77.227589], [43.14478, -77.65101], [28.449873, -81.475353], [40.057946, -75.663202], [34.154522, -118.396384], [29.960457, -90.06839599999998], [25.732776, -80.346216], [42.96168, -88.00839], [25.969414, -80.183083], [45.053676, -93.057729], [34.194492, -118.15881], [36.730245, -119.780834], [37.173224, -81.138992], [32.833102000000004, -117.233079], [35.771484, -119.769054], [37.799083, -77.461066], [39.411596, -76.41277600000002], [39.853196, -75.0975], [28.036999, -82.116091], [42.682659, -74.385867], [25.760886, -80.395587], [32.909447, -96.758602], [42.15281, -87.96135], [42.26322, -71.57216], [33.465958, -112.173888], [30.451418, -97.915642], [32.691324, -96.86404], [42.284381, -122.818802], [40.71902, -73.94596], [36.08766, -86.70143], [37.831844, -122.266922], [32.891931, -96.808571], [37.4506, -121.92175], [45.49106, -122.79084], [40.74977, -111.6051], [34.266409, -118.639473], [33.149997, -87.529286], [34.86345900000001, -118.189755], [28.451475, -81.465305], [40.86721, -74.044927], [45.208333, -93.406843], [38.657706, -121.363441], [41.68981, -70.21757], [27.37974, -80.40783], [33.882604, -118.349632], [39.115703, -77.82673299999998], [38.487972, -90.353482], [36.21548, -86.69211], [37.89113, -122.06091200000002], [28.665576, -80.844879], [38.32404, -104.70129], [42.93278400000001, -85.66057099999998], [32.945562, -97.311669], [47.545026, -122.330849], [33.869594, -117.705153], [34.30435, -117.46363999999998], [33.877904, -118.103166], [37.48875, -121.930871], [30.396306, -91.177695], [40.98756, -73.86501], [29.95686, -90.07972], [34.126196, -117.916106], [37.87206, -84.33343], [29.8346, -95.38534], [28.538966, -81.311996], [36.714713, -119.763681], [35.21209, -80.89319], [34.352262, -118.508235], [38.579511, -121.465288], [38.629666, -90.334792], [41.777218, -73.768912], [33.668514, -112.203744], [36.57768, -121.91492], [34.805606, -82.22722900000002], [33.877104, -98.496433], [29.222265000000004, -82.12404599999998], [43.162139, -77.623063], [35.292684, -119.252511], [33.909237, -118.37056], [37.854629, -122.217304], [38.630146, -90.366549], [28.009857, -81.86609], [41.80364, -71.4039], [38.428327, -76.71829100000002], [40.56394, -74.25846999999997], [35.45910999999999, -97.49259], [25.677127, -80.418015], [33.659845000000004, -117.747462], [39.278386, -94.422286], [34.296690000000005, -118.47341000000002], [33.8229, -84.49195], [34.173532, -82.070503], [45.82757, -119.82347], [34.865376, -82.242189], [33.64671, -78.98416999999998], [37.824861, -122.313611], [30.415952, -91.071397], [33.48056, -112.1136], [30.191672, -84.372188], [34.8801, -82.3594], [39.016672, -94.554881], [41.001201, -73.652397], [39.76502, -104.82751], [33.524793, -81.716679], [34.062869, -117.490484], [38.904825, -77.016164], [25.768422, -80.369947], [25.948502, -80.148765], [28.007186, -82.50408900000002], [44.384261, -93.442529], [25.895751, -80.291916], [39.815789, -79.351865], [43.209161, -83.520161], [40.731256, -73.97365500000002], [37.53201, -122.00654], [40.443278, -74.501852], [41.227043, -73.425203], [33.92559, -117.42281], [37.893773, -122.120993], [38.79387, -122.555401], [41.53699, -112.06628], [35.24951400000001, -80.772375], [42.20111, -121.810088], [40.79017, -73.52081], [38.53123, -76.776934], [39.854091, -104.986798], [39.69059, -84.09891], [33.875331, -118.193156], [36.930127, -80.90969100000002], [33.714690999999995, -84.240578], [42.400452, -83.762939], [32.250353999999994, -110.98602], [43.14834000000001, -75.88927], [38.862901, -76.848453], [38.57566, -121.508181], [27.956236, -82.483316], [34.072628, -118.058409], [33.93261, -117.41047], [40.77003, -73.05249], [45.582121, -118.610298], [26.449381, -81.78876], [25.78325, -80.34102299999998], [38.38625, -122.7161], [40.708064, -73.95727], [41.357479, -73.637783], [40.756541, -74.201713], [28.593346, -81.307034], [33.70545300000001, -117.954392], [37.605567, -121.872361], [42.980246, -71.470139], [43.619074, -116.258829], [34.068435, -117.39112], [33.656801, -112.373692], [32.235921999999995, -110.977941], [33.96347100000001, -118.119496], [36.211085, -86.699967], [41.255653, -77.008973], [28.410241, -81.424864], [41.76981, -72.67318], [40.23064, -104.98027], [35.77575, -78.64361], [42.04281, -87.98886999999998], [25.89843, -80.20723000000002], [42.29087, -83.79717], [32.658244, -80.846253], [33.183506, -117.290049], [41.933149, -72.559128], [42.07689, -122.60206], [32.791233, -96.75284], [40.834771, -73.931116], [38.795696, -77.063419], [39.44062, -76.63457], [34.159, -117.32844], [34.14618, -118.02793], [38.293565, -121.313577], [39.026364, -121.450973], [40.78463, -73.52877], [43.09562, -73.753312], [44.795056, -93.289105], [33.924782, -118.281449], [45.541492, -122.678694], [34.053166999999995, -118.229108], [37.980369, -122.065426], [29.347938, -95.014744], [25.889339, -80.165094], [39.1614, -77.977041], [37.64801, -122.09625], [26.279296, -80.125], [34.147385, -118.798245], [25.879935, -80.357455], [32.835476, -96.755159], [39.16516, -104.853074], [30.378516, -97.680162], [29.479686, -82.237122], [39.89375, -75.22066], [40.85333, -73.96132800000002], [45.522671, -118.441116], [38.636028, -121.385724], [41.05925, -111.96247], [28.612408, -81.502597], [34.0041, -117.406206], [42.87016, -73.82058], [33.975087, -118.357657], [41.793218, -78.68436], [34.06876, -117.84253], [47.315091, -122.29563], [45.34953, -118.21122], [34.266428999999995, -118.481226], [39.02419, -77.10777], [39.12077, -77.03463], [35.32271, -80.90196999999998], [30.773179, -83.293014], [34.051069, -118.213899], [35.22898, -80.86691], [25.809265, -80.317236], [25.718211, -80.438084], [33.983634, -83.925818], [33.752135, -117.455359], [30.359069, -97.690003], [29.69037, -95.45889], [32.331013, -95.300603], [28.225092, -81.484594], [32.664262, -97.242621], [40.560419, -89.110516], [34.185637, -81.04178], [34.496124, -82.619374], [25.790707, -80.36896], [38.232722, -122.10859], [33.188727, -117.151096], [38.490457, -121.514307], [38.646562, -90.448943], [38.078121, -122.232808], [39.07432100000001, -121.828148], [43.672317, -92.86918], [33.877036, -118.109566], [34.90763, -78.85635], [30.164724, -81.741571], [30.41935, -91.120883], [39.86113, -86.27176], [33.24091, -84.38245], [33.944332, -118.141064], [33.38568, -111.928928], [34.137691, -82.130717], [37.750126, -121.138626], [44.963115, -92.958504], [34.010265000000004, -118.057215], [37.156981, -121.983825], [36.220031, -86.774774], [35.747474, -78.58619300000002], [40.706008, -74.248684], [36.966322, -120.128457], [34.555042, -82.80953000000002], [33.49372, -112.42031], [33.854306, -117.889293], [34.149125, -118.803935], [42.06666, -88.21624], [36.622564, -121.580681], [34.857240000000004, -82.2561], [34.141828000000004, -118.018673], [35.738193, -78.589704], [38.22054, -122.1325], [33.981002000000004, -81.106835], [45.19765, -93.34058], [36.041148, -86.77551899999996], [37.80661, -122.23753], [37.523466, -122.266798], [40.625326, -74.24458299999998], [40.372075, -76.681017], [28.5096, -81.40056], [42.40631, -82.95625], [44.522129, -119.92804], [32.745424, -117.109478], [37.166357, -93.262497], [34.135304, -117.331666], [28.485487, -81.441745], [38.118814, -122.105966], [38.616803, -121.420372], [32.749587, -96.910117], [29.941335, -90.103709], [40.692455, -73.99952900000002], [44.95162, -93.12629], [32.896643, -96.713204], [38.010216, -78.480159], [28.545541, -81.412835], [33.859907, -117.716461], [37.492211, -122.386094], [42.914177, -71.464801], [42.422065, -123.027568], [37.710567, -121.452895], [45.147598, -122.78026], [35.840198, -78.594429], [40.057899, -76.280828], [36.992809, -120.080436], [40.005018, -76.604373], [38.951737, -76.968294], [34.136644, -117.536616], [32.366867, -86.138251], [43.92947, -92.3809], [33.27189, -117.441391], [39.935851, -120.932734], [32.673114, -117.08279], [40.525011, -74.24371], [36.0462, -82.532726], [34.235446, -118.597551], [32.17783, -110.96829], [40.480939, -74.402879], [40.770236, -74.204626], [33.458437, -80.68764200000003], [29.955507, -90.07032099999998], [26.60825, -81.651465], [42.423217, -73.550062], [41.843, -91.66562], [42.696014, -73.841782], [32.634122, -83.779338], [41.597416, -90.434978], [41.391594, -73.91336700000002], [35.311506, -80.71718], [45.06276, -93.1606], [30.481837, -84.312951], [38.970712, -77.036415], [39.957014, -75.15545], [43.144739, -77.590538], [33.5043, -117.152809], [35.194648, -111.618293], [37.994836, -121.167771], [29.788833, -95.398938], [26.48028, -81.79320200000002], [34.033441, -118.436416], [40.78406500000001, -73.65218399999998], [41.014527, -76.485067], [42.805945, -78.81053100000003], [34.034928, -118.368514], [34.995553, -81.11386], [34.00615, -118.061796], [43.82784, -123.03203], [28.064657, -82.73877], [33.941173, -117.241633], [28.491466, -81.396739], [35.224839, -80.861645], [36.964606, -76.413227], [41.497131, -95.209826], [33.914491, -117.88268], [33.990527, -118.070066], [43.079816, -75.39193], [33.876503, -118.095806], [37.98462, -121.242941], [43.176907, -77.640656], [26.58022, -81.64922], [33.113409999999995, -96.67214], [30.532325, -87.330976], [25.702455, -80.332105], [45.555779, -122.578591], [35.840001, -78.677142], [47.37806, -122.24187], [26.546262, -81.85364399999997], [33.437593, -112.108103], [33.923717, -118.281124], [45.615459, -94.175459], [40.085173, -74.93133900000002], [32.363176, -86.222043], [28.55319, -81.367511], [25.789736, -80.409047], [42.79772, -123.2553], [33.812246, -84.39226500000002], [37.51242, -122.25399], [30.478316, -91.166793], [39.055142, -77.617755], [30.454262, -91.164759], [34.754396, -86.71078299999998], [28.06896, -82.35282], [44.72686, -122.698621], [30.43434, -86.60325999999998], [40.789908, -74.04758299999997], [39.346494, -77.08489399999998], [33.646987, -117.171314], [25.685528, -80.446117], [34.820533000000005, -81.033407], [36.56938, -121.797335], [29.728021, -98.079444], [41.093929, -73.932222], [34.180956, -82.184877], [38.782392, -77.17918], [32.78096, -117.08403], [34.768559, -118.78359], [44.85917, -93.5311], [40.07929, -75.37849399999998], [27.462273, -82.638152], [34.213937, -80.98042099999998], [39.394812, -120.025178], [41.69784600000001, -93.57591], [25.824984, -80.206986], [43.275802, -122.455388], [28.259793, -81.601209], [35.164398, -80.87609], [35.20985, -80.75718], [29.96837, -95.4199], [41.59075, -86.89695], [33.574218, -117.671984], [33.861297, -117.877051], [37.769669, -122.416109], [39.80272, -86.07816], [25.685223, -80.417573], [36.731922, -119.778872], [40.117489, -76.454769], [41.94842, -87.72163], [34.08373, -118.367416], [43.19386400000001, -77.623175], [33.938894, -118.044479], [34.160073, -118.469604], [41.82498, -87.71865], [42.338516, -88.098422], [38.010023, -122.021809], [39.238802, -76.704303], [34.193219, -79.649043], [34.201108000000005, -118.473406], [44.873066, -93.5907], [25.778778, -80.199724], [41.770998, -72.680989], [41.055056, -73.810422], [29.62930900000001, -95.323974], [35.269864, -81.151777], [38.65975, -80.7373], [40.211642, -79.666085], [40.329801, -74.482743], [38.937738, -77.133997], [37.86455, -122.20892], [44.776358, -93.280188], [38.674846, -77.37225600000002], [38.323011, -77.46606], [37.53955, -77.44075], [41.881964, -111.820323], [34.014509999999994, -117.81937], [34.03191, -118.41783], [39.140242, -76.755884], [37.54417700000001, -77.393606], [37.08812, -79.93306], [33.916002, -84.37924100000002], [36.515227, -119.250712], [36.046629, -86.661057], [43.91382700000001, -123.01304], [33.837576, -87.227977], [40.847934, -73.935634], [36.167237, -86.76517], [41.047135, -73.803885], [34.027701, -118.455089], [39.837, -83.09363], [45.497557, -122.616796], [34.794963, -118.852432], [41.166533, -73.213351], [39.1055, -108.44395], [37.31649, -121.9673], [39.79834, -104.93092], [33.264539, -79.881502], [40.25888, -79.87878], [33.696874, -117.178527], [38.865629, -77.05469000000002], [33.973209999999995, -118.16805], [32.686168, -97.240381], [33.862102, -117.990558], [30.404543, -97.640566], [25.774156, -80.320252], [43.55884, -95.17488], [41.520624, -76.39411], [37.552996, -77.443946], [40.79675, -111.94919], [38.952762, -94.85296], [34.078335, -117.624835], [42.062355, -88.066406], [37.511203, -122.331899], [34.756089, -86.63945], [34.050565, -118.214083], [40.72273, -73.82746], [36.769388, -80.80560200000002], [36.859606, -121.604044], [39.233475, -76.667371], [38.302697, -122.476112], [25.746607, -80.368719], [33.702914, -84.18349599999998], [31.051107, -81.64507900000002], [42.598189, -84.781998], [34.175354, -82.400764], [35.012101, -81.933538], [45.209351, -123.111777], [38.939332, -109.507475], [28.53289, -82.626611], [39.32383400000001, -78.07036], [33.961811, -118.231932], [33.947984000000005, -79.172662], [30.243103, -97.620722], [44.95196, -93.06261], [34.068658, -118.042222], [34.03693, -118.43877], [29.708440000000003, -95.67821], [34.007346000000005, -118.426735], [34.489336, -118.137254], [44.668844, -123.851065], [37.690844, -122.123355], [40.96831, -81.70999], [39.279779, -122.191755], [41.78398, -72.66006], [39.787963, -110.928794], [34.470263, -117.435692], [27.993990000000004, -80.62740600000002], [41.174964, -73.187825], [48.28387100000001, -114.164546], [38.480751, -121.408698], [39.02798, -94.25356], [41.769311, -72.668748], [40.751928, -122.03565], [29.672544, -82.430836], [45.131117, -121.60138899999998], [37.548061, -122.291318], [36.663104, -119.786113], [35.615948, -119.716504], [30.831458, -86.23196], [32.806494, -96.791439], [25.731159, -80.335665], [34.070318, -117.45368], [44.823165, -93.291306], [36.113949, -86.919375], [25.685198, -80.418289], [33.956305, -118.370078], [33.425686, -80.122178], [33.591381, -117.513669], [34.984891999999995, -85.280636], [37.785512, -122.391418], [35.217967, -77.511125], [30.355057, -97.689589], [26.182748, -80.152419], [36.8082, -119.548216], [35.842493, -78.682011], [40.78369, -73.61824], [39.939023, -104.987949], [28.04087, -80.66075], [26.6317, -80.06806], [32.73498, -96.82382], [25.579162, -80.33592], [32.249899, -86.368288], [45.57235, -122.67877], [45.512975, -122.667749], [33.638899, -117.73026000000002], [38.141164, -122.22085], [34.006168, -117.550505], [47.599972, -95.013724], [42.63315, -73.78153], [30.443515, -91.138497], [32.83883, -113.33373], [38.63160300000001, -75.82202], [38.374813, -77.46288100000002], [43.151636, -77.679662], [34.181568, -118.88748], [34.778295, -92.190243], [26.833938, -81.109768], [38.380304, -75.06806800000003], [42.296863, -83.185914], [40.752619, -73.94465699999998], [47.592876, -116.891507], [36.128242, -86.712942], [45.1877, -122.942665], [36.804718, -119.817466], [40.845783, -73.929888], [25.919481, -80.293061], [33.638721000000004, -112.347525], [28.834615000000003, -82.04129499999998], [34.074563, -117.618285], [36.626722, -78.139864], [31.80617, -106.2692], [37.52537, -77.34358], [38.29153, -76.62660799999998], [39.77829000000001, -104.897431], [33.91706, -118.046656], [37.14435, -121.98468], [41.559006, -73.941799], [33.684836, -117.907708], [32.732177, -117.06081], [34.227072, -118.52735], [38.306196, -122.477838], [40.41105, -75.50626], [33.885714, -118.190127], [30.427872, -86.639059], [25.882944, -80.228717], [36.73591, -119.57416], [29.717638, -95.260067], [33.495105, -112.161877], [36.18934, -121.075011], [41.272813, -80.16362], [33.768440000000005, -84.49486], [40.435354, -79.7556], [34.559845, -117.938589], [40.864764, -124.115744], [40.46042, -75.41504], [40.284623, -75.64099499999998], [25.685223, -80.417573], [30.438183, -84.27958199999998], [30.417608, -97.750388], [35.666449, -78.799038], [38.77753, -121.26577], [33.930137, -118.171066], [29.80428, -95.28728], [37.859135, -122.500262], [45.583852, -118.622721], [25.761816, -80.337981], [37.656067, -79.011878], [33.80278, -118.12081], [40.771261, -74.062196], [28.331377000000003, -82.69840699999997], [34.50778, -81.971585], [33.82652, -118.20772], [46.15209, -123.856885], [39.90957, -104.9906], [34.611811, -82.118649], [25.907942, -80.382862], [33.582652, -81.98703499999998], [45.44346, -94.96381], [37.35269, -121.86823], [34.070008, -117.2958], [36.140601, -86.732024], [41.111397, -73.398553], [25.898047, -80.241411], [45.66381, -121.89316], [41.856766, -76.502927], [28.20696, -82.245961], [30.33958, -81.66837], [37.72224, -122.13572], [40.495538, -78.04840300000002], [27.42912, -82.50542], [40.18845200000001, -77.184337], [38.63314, -121.320257], [33.895751000000004, -117.497781], [30.289668, -81.977603], [42.973802, -77.170138], [35.958175, -90.568292], [38.84520300000001, -76.95083299999997], [25.733183, -80.335759], [47.281142, -119.580132], [39.83416, -105.01762], [47.70813, -122.30148], [32.783862, -96.812499], [33.573199, -86.783484], [30.246576, -97.76926], [25.850404, -80.220466], [33.921409999999995, -118.08277], [43.02255, -121.82588], [35.46314, -97.47402], [33.966363, -118.082471], [33.85304, -117.81185], [35.893541, -78.560478], [40.565563, -112.296099], [36.211291, -119.63693899999998], [34.030077, -117.698055], [30.18702, -81.73946], [35.557712, -82.53540100000002], [45.641662, -120.890399], [45.58045300000001, -122.543595], [38.630236, -121.267221], [37.54113, -77.44339000000002], [43.016477, -83.654586], [38.94775, -121.043577], [27.955633, -82.50144300000002], [34.740190000000005, -92.33451], [45.537938, -94.209646], [40.135256, -111.646982], [34.965346999999994, -89.99985799999996], [42.96243, -87.97281], [33.55144, -80.926005], [34.342274, -118.505506], [38.66105, -121.35736599999998], [35.302098, -78.427063], [39.51119, -75.71161], [33.585524, -78.990972], [34.234188, -80.66663100000002], [33.805221, -118.207494], [33.62303, -117.71543], [25.75001, -80.422203], [46.70991400000001, -112.020862], [42.87179, -78.80208], [32.765708000000004, -96.776498], [41.56822, -87.35028], [27.943683, -82.334321], [32.72412, -117.15117], [44.95174, -93.16707], [28.609345, -81.30837700000002], [43.032783, -123.324378], [33.94085, -118.09671000000002], [38.559524, -121.373107], [44.05437, -121.30704], [32.799819, -96.777079], [27.0499, -82.39753], [37.754097, -121.439418], [40.328733, -75.60148199999998], [37.70186, -121.90237], [34.136720000000004, -117.547799], [40.843166, -78.13492600000002], [34.029990000000005, -117.580393], [34.01409, -79.845261], [26.13733, -80.12867], [33.82379, -84.35655], [34.021077000000005, -117.103184], [25.90354, -80.21027], [28.75127, -81.36527], [38.678988, -121.947544], [34.749758, -82.286023], [34.455997, -118.615881], [39.783736, -77.713864], [30.396987, -87.30125600000002], [36.169974, -86.76361999999996], [40.87632, -73.87061], [29.824288, -95.313622], [38.76653, -90.18019], [37.771572, -122.41128700000002], [28.430697, -81.42303299999998], [36.077381, -86.766326], [37.54939, -122.29256], [29.96722, -90.070487], [25.447784, -80.475673], [26.59143, -80.068928], [39.85709, -82.82384], [34.008025, -118.182609], [25.734989, -80.30295600000002], [42.325939, -83.16113], [45.675305, -121.275275], [25.889339, -80.165094], [34.01663, -118.040463], [34.066833, -117.51248], [32.192408, -110.943335], [46.52861, -93.73477], [36.086429, -86.69872600000002], [41.11987, -73.37817], [45.43851, -122.56765], [34.311586, -111.048437], [37.371501, -121.901978], [33.668545, -84.338581], [34.063721, -117.267261], [40.25039, -74.2749], [29.676152, -95.267088], [34.01643, -117.341962], [38.962829, -77.427401], [28.460862, -82.542868], [47.268892, -122.318518], [33.66475, -117.30179], [35.1674, -80.74294], [40.69551, -73.51954], [29.735353000000003, -95.489848], [34.201239, -118.403727], [39.667914, -86.371289], [25.906603, -80.23827800000002], [32.28315, -90.17148], [33.72668400000001, -117.418544], [33.38671, -111.554208], [34.066191, -117.479175], [35.36839099999999, -119.021194], [33.70545, -117.95441], [37.73061, -121.11018500000002], [42.494347, -83.519326], [37.79222, -122.20324], [34.426108, -117.618962], [33.83518, -118.28749], [42.613445, -124.393934], [25.944476, -80.294021], [43.016914, -74.8133], [37.360657, -121.915982], [27.841017, -82.700064], [33.85235, -117.88198], [25.899957, -80.321377], [34.031621, -118.187109], [37.15724, -121.98212], [28.508951, -81.42599399999997], [39.006689, -77.153109], [29.810812, -95.476548], [45.67893, -122.5878], [38.576399, -121.187335], [34.00471, -117.3996], [37.264448, -80.15733], [40.780693, -73.657724], [43.633808, -116.356374], [38.27383, -122.67242], [45.331717, -93.560644], [36.677925, -119.787206], [42.538708, -82.899934], [33.89934, -117.881318], [37.40074, -122.03648], [35.768789, -78.617345], [32.939671999999995, -80.148723], [39.52042, -107.82192], [46.137452, -94.578166], [37.522727, -79.71191999999998], [25.718624, -80.294113], [35.238726, -118.918833], [40.08199000000001, -111.5872], [40.436561, -79.973876], [39.531, -104.86785], [32.667390000000005, -96.73197], [25.684325, -80.41642900000002], [41.573962, -87.510898], [37.523877, -77.607033], [47.110255, -93.835841], [43.832843, -84.750867], [38.646737, -121.369174], [32.803548, -96.793293], [38.381627, -122.716126], [34.033724, -118.436737], [39.656997, -86.866702], [32.661355, -97.270771], [30.43015, -81.57575], [38.91596, -77.21788000000002], [35.225706, -80.908852], [40.92705, -111.89119], [34.877255, -82.362882], [42.942388, -85.646008], [27.31808, -80.41445999999998], [43.93297000000001, -91.42195], [33.838689, -118.088394], [32.361969, -89.501998], [38.003464, -121.835484], [32.861614, -96.657342], [38.616675, -90.177787], [25.668365, -80.48106999999997], [39.362054, -106.062628], [39.387693, -77.259591], [25.654291, -80.415635], [40.73929, -111.90454], [37.833791, -122.483664], [35.798915, -78.568441], [38.277107, -85.74918100000002], [39.44972, -78.97839], [42.10241, -87.76841999999998], [43.104189, -83.780618], [45.144391, -93.498787], [32.878840000000004, -96.68818], [40.197118, -74.61085899999998], [39.543285, -77.607421], [39.81876, -84.28545], [34.066725, -117.220848], [36.977984, -121.989259], [34.020364, -117.840245], [29.944974, -90.089961], [30.152463, -85.48988100000003], [28.98655, -82.139166], [29.954559000000003, -90.095467], [39.907017, -86.269584], [41.87575, -87.68822], [33.462204, -112.067948], [38.138652, -121.162314], [43.016892, -78.25680600000003], [40.048594, -76.29377099999998], [45.670841, -118.809574], [29.77378, -95.36763], [39.795624, -86.274658], [38.69999, -120.081587], [37.435194, -122.20486499999998], [33.134667, -117.128568], [34.119662, -117.810956], [35.81990300000001, -114.552201], [33.971744, -118.201601], [43.772331, -92.628768], [29.340019, -81.131141], [34.154402000000005, -118.383747], [36.869677, -76.40503000000002], [35.768297, -78.72958299999998], [25.684137, -80.416422], [25.825117, -80.38440899999998], [33.708399, -117.852092], [34.21586, -119.016731], [41.808151, -88.091403], [45.416504, -120.778487], [25.595172, -80.47849000000002], [28.57475800000001, -81.47600899999998], [37.118727, -122.016558], [33.847235999999995, -118.093021], [40.683686, -111.902356], [33.225674, -117.325552], [25.899614, -80.182822], [36.079005, -80.230352], [38.989276, -122.829058], [39.575381, -76.343003], [45.101762, -93.456416], [34.192143, -118.402338], [45.521732, -122.665497], [35.147146, -80.896294], [42.524268, -84.647279], [32.744064, -117.108231], [39.56400900000001, -123.434025], [38.35842, -121.97397], [33.856483000000004, -117.785571], [35.364829, -81.09395], [40.872058, -73.99890500000002], [39.503879, -121.460923], [40.649596, -75.017062], [45.4545, -92.99078], [30.446149, -91.237901], [43.011653, -83.68983399999998], [29.426689, -98.501211], [33.896983, -118.196221], [34.167698, -117.335948], [35.062914, -85.027782], [35.616012, -119.617284], [38.936394, -104.720124], [30.430723, -91.187607], [44.947637, -122.99042], [26.609403000000004, -81.713172], [41.13487, -73.29306], [36.915221, -76.264913], [44.86267, -93.20964], [32.976011, -117.087918], [30.398851, -98.090961], [33.858831, -118.033767], [30.428937, -97.72693], [42.855266, -124.47167], [34.11046, -118.33435], [44.952014, -93.177003], [34.030025, -117.707318], [29.73022000000001, -95.476395], [41.09295, -80.65521], [37.847983, -122.027629], [37.532047, -77.34859200000002], [34.2183, -118.47314], [28.223988, -82.733757], [25.711094, -80.382351], [34.06393, -117.27173], [36.17438, -115.15498], [39.632554, -106.509997], [29.77675, -95.38495], [26.635234000000004, -81.69114300000003], [40.491704, -74.392622], [35.134426, -92.401257], [44.932783, -93.4212], [33.988127, -118.399267], [28.482827, -81.456975], [33.972759, -117.332201], [29.14565300000001, -82.184979], [32.82574, -96.8831], [33.494933, -112.162956], [41.85754, -88.05516], [38.784809, -77.44951999999998], [30.511511, -91.134673], [38.154808, -122.422089], [38.308431, -122.712365], [28.367812, -81.50265300000002], [28.381169, -81.507044], [47.97824, -122.176749], [38.686469, -77.62158000000002], [47.56082, -122.2932], [30.48803, -87.19768], [48.19089500000001, -122.205423], [38.415636, -120.610122], [38.442906, -77.40896], [29.952403000000004, -90.072412], [40.18457, -75.22769100000002], [25.718259, -80.30511899999998], [35.723464, -78.533355], [40.59395, -111.89087], [43.63969, -95.94991], [39.396961, -76.54845300000002], [34.16924, -118.46793999999998], [34.134754, -117.624656], [42.01785, -87.93954000000002], [33.856840000000005, -80.11508], [41.290774, -73.67751], [38.228156, -120.542506], [41.175845, -73.169063], [37.25192, -121.937452], [34.700736, -118.169861], [34.134614, -117.646514], [34.716446999999995, -92.356541], [39.843269, -75.39703], [39.400202, -77.40789699999998], [33.830852, -117.124465], [43.1961, -77.60015], [32.441271, -93.717468], [32.907539, -96.729608], [45.579496, -118.594118], [47.579399, -122.31928], [30.211116, -97.66791], [42.443157, -121.867743], [33.027641, -117.22979], [39.704836, -76.642609], [40.64147, -74.21197], [40.95718, -73.826348], [39.95582, -76.68464], [47.095824, -98.193408], [34.749249, -92.262649], [39.75613, -83.30685], [33.712568, -84.22391], [25.947503, -80.353076], [34.134532, -117.652834], [25.713476, -80.285732], [38.445613, -122.86664], [35.930517, -86.820262], [37.339323, -121.851869], [34.374977, -110.462632], [30.636073, -84.939926], [34.059855, -117.297647], [34.45183, -118.614755], [39.586934, -119.823637], [39.13717800000001, -120.937058], [42.37983, -117.85013], [38.897692, -94.524484], [35.425576, -119.28746], [38.50232000000001, -121.45277], [33.927382, -118.256392], [37.382383, -122.262942], [25.875846, -80.225875], [34.443003999999995, -119.787104], [33.763619, -117.864769], [43.668862, -116.896813], [32.953916, -96.810999], [39.961169, -74.917176], [37.698479, -121.9413], [40.56021, -74.29616999999998], [41.11972, -78.759865], [25.688161, -80.33259699999998], [30.75401, -81.65109], [36.07029, -86.722093], [45.543501, -122.369617], [33.812836, -118.287229], [42.3978, -83.06906500000002], [35.222967, -80.640975], [25.747312, -80.350335], [26.098853, -80.248083], [42.4688, -82.91919], [41.3889, -73.59434], [35.720438, -78.818857], [33.876956, -118.156236], [37.818283, -118.47698], [45.697146, -108.674531], [38.912345, -122.609265], [33.411599, -80.663886], [34.27686, -119.28986], [42.704018, -82.778152], [33.019468, -117.078751], [29.75772700000001, -95.376952], [37.254123, -122.373449], [42.64516, -87.95276], [35.47862, -97.56577], [38.902491, -76.989621], [33.844445, -118.091429], [34.034711, -118.338299], [26.330523, -81.80765799999998], [32.779709999999994, -97.27762], [47.25422, -122.2589], [45.60872, -122.680828], [36.060976, -95.855086], [35.408549, -119.03875], [34.06885, -117.80819], [39.237177, -122.181589], [40.77019, -73.91674], [45.81729, -119.38381], [38.819252, -76.895291], [43.041006, -78.987596], [33.956624, -117.380064], [37.99721, -78.33309], [41.597806, -83.99077], [43.191787, -124.342337], [34.879333, -120.430344], [44.543069, -94.321354], [33.39733, -84.59081], [27.464381, -82.57543199999998], [40.71371, -74.14124], [35.371395, -80.711113], [33.523464000000004, -112.116901], [37.663305, -122.10591200000002], [32.304906, -95.27883], [42.347164, -122.875628], [38.63853, -90.48529], [39.486998, -121.68861499999998], [34.985327000000005, -78.84253199999998], [27.951203000000003, -82.513492], [29.78467, -95.10799], [33.819018, -117.717272], [46.876634, -97.105976], [41.42145, -81.71718], [25.603575, -80.351962], [40.507292, -111.89131], [42.77805, -83.53069], [47.36838, -91.22389], [33.43574, -86.71923000000002], [25.780416, -80.312021], [37.993432, -122.301006], [30.460981, -91.044117], [42.752353, -122.497086], [28.08441, -82.44481999999998], [43.141194, -77.663158], [25.716948, -80.34293000000002], [40.75992, -73.961741], [33.596381, -80.805019], [38.343929, -77.487616], [26.186645, -80.20185], [36.15708, -86.77466], [38.796511, -77.19074599999998], [25.739256, -80.38368100000002], [26.632994, -80.068219], [38.411811, -122.648644], [38.529936, -121.751491], [25.571702, -80.376423], [25.84971, -80.196449], [42.378635, -83.035015], [37.466111, -121.927755], [37.685433, -122.130149], [36.966994, -78.183605], [45.507929, -122.722071], [31.720514, -106.30532], [33.574218, -117.671984], [43.92542, -91.47425], [44.5875, -122.92487], [42.675408, -82.780723], [37.18944000000001, -121.99237], [40.55335, -74.48499], [39.20572, -76.61872], [25.669776, -80.416237], [44.94666, -93.27461], [39.90542, -75.17385], [38.667976, -121.327337], [43.339569, -124.332873], [32.917732, -96.745165], [34.08234, -118.22083], [37.36995, -121.92629], [25.77238, -80.339652], [37.588264, -121.87126], [44.638831, -121.129691], [37.57371, -122.26222], [33.853769, -117.924331], [35.008447, -85.21046899999997], [34.234002000000004, -117.421875], [33.96818, -118.16785], [38.012706, -122.630134], [44.99067, -93.08911], [40.905535, -73.878089], [30.397521, -91.107865], [44.844013, -93.298333], [29.042275, -82.019085], [45.41582, -122.63174], [37.452125, -122.126916], [32.218437, -110.961319], [36.114636, -86.647267], [25.57044800000001, -80.377651], [33.080188, -84.920909], [35.149035999999995, -80.832892], [41.018731, -76.109638], [38.118578, -122.285395], [37.584156, -122.32829], [32.118588, -111.041123], [32.756091, -117.159157], [42.213876, -121.743443], [34.055651, -118.453474], [34.428782, -119.29449], [36.743415, -119.819212], [28.43493, -81.40333000000003], [41.011666, -73.642176], [35.354354, -118.914067], [39.015118, -77.004389], [43.686927, -70.253127], [39.53642, -74.91192], [25.881633, -80.24296700000002], [43.685384, -93.422209], [33.392242, -117.196741], [47.742279, -112.111133], [37.042199, -122.080444], [32.68395, -96.65299], [37.664308, -122.117156], [32.797551, -96.611257], [37.764999, -122.217672], [33.82354, -118.206642], [34.147736, -118.031661], [27.825869, -82.665821], [39.991854, -85.83022700000002], [32.776992, -96.805425], [47.96856500000001, -122.739643], [37.597142, -121.873231], [43.603303, -115.987811], [34.010308, -117.823429], [43.153461, -77.620352], [34.012543, -118.489979], [34.026561, -118.277033], [40.544415, -111.89461], [33.752839, -117.848228], [33.799170000000004, -84.249762], [34.171028, -118.158132], [33.924483, -118.209446], [40.319756, -79.69035600000002], [41.887446, -72.654894], [32.77401, -117.12655], [34.025290000000005, -81.102712], [40.787891, -74.049214], [35.785822, -78.662903], [43.997143, -92.48498], [35.839238, -78.675899], [42.90677, -87.93618000000002], [40.67023, -111.80551], [30.381675, -91.143482], [41.93939, -88.11873], [27.91528, -82.787713], [33.774433, -117.872802], [32.67603, -97.01138], [36.889182, -76.22985], [44.11358, -93.24656], [45.45582, -122.57274], [39.213335, -119.807211], [29.68270200000001, -95.535298], [35.99764000000001, -86.79669], [32.816743, -96.811355], [33.759358, -117.973702], [44.890719, -93.312632], [27.82836, -82.67954], [40.767658, -73.901084], [34.42672, -118.585305], [33.912755, -81.217711], [28.048629, -82.749189], [40.20898, -74.09727], [38.005246, -121.841869], [25.731574, -80.335685], [45.51478, -122.6676], [37.025524, -120.939356], [25.949889, -80.182288], [46.77224, -92.138708], [38.232754, -122.617496], [42.981403, -85.61960400000002], [34.463257, -81.853287], [40.592893, -73.908503], [32.778114, -117.112305], [35.87586500000001, -119.85321100000002], [40.303419, -75.899788], [37.11631, -76.503109], [25.839843, -80.32194100000002], [34.301798, -117.459688], [38.883446, -77.012804], [42.740897, -84.514263], [39.308485, -120.54154], [35.040996, -80.84617800000002], [33.935658000000004, -84.160602], [42.343296, -87.89500600000002], [29.635541, -95.468425], [33.74453, -118.00476], [25.856046, -80.325326], [37.377187, -121.943494], [34.86052, -82.725195], [42.282777, -124.405105], [32.807026, -96.666809], [35.162225, -89.89744300000002], [38.9335, -77.08584], [34.273594, -118.590517], [39.48253, -77.526411], [36.095978, -80.234452], [40.85911, -111.90442], [40.845262, -73.927777], [37.645369, -77.518213], [35.150969, -80.945017], [32.228995, -110.980981], [25.84918900000001, -80.316195], [44.919517, -117.944421], [39.804893, -86.054459], [33.971711, -117.33142], [34.136518, -117.49495], [33.969147, -118.245494], [34.264878, -119.270121], [25.656465, -80.41184399999999], [25.84573, -80.32247], [33.46102, -112.29573], [30.313917, -81.658861], [33.88413, -118.028821], [37.686388, -122.131879], [42.28042, -85.336821], [37.701626, -121.878157], [25.963003, -80.157545], [39.60031, -87.49861899999998], [30.141956, -97.833025], [38.97527, -76.99413], [34.085798, -118.297015], [34.982959, -85.409186], [33.190897, -87.559138], [30.44705900000001, -97.798812], [33.577684000000005, -81.601949], [40.10777, -79.3773], [42.47723, -83.19493], [34.800835, -91.745184], [37.699425, -121.070705], [44.371236, -117.296336], [33.867246, -117.746139], [25.889511, -80.162851], [40.68395200000001, -73.708401], [37.111548, -76.48096899999999], [34.58091, -112.35375], [38.61716, -76.875262], [44.89029, -93.40523], [30.576399, -84.694], [39.64223, -105.00576], [39.94274, -76.71884], [37.769391, -122.411548], [33.462974, -112.19513899999998], [36.692186, -119.825787], [45.358731, -122.616099], [30.533102000000003, -87.125694], [38.95965, -77.27688], [29.092219, -82.339608], [44.366564, -118.95598], [35.68510999999999, -78.56971999999998], [25.94724, -80.153217], [25.473354, -80.498711], [32.848786, -117.116942], [37.25165300000001, -93.297064], [44.09989, -121.30091000000002], [26.547742, -81.87164399999997], [36.843632, -76.135101], [35.778371, -78.59052199999998], [36.773107, -76.583702], [40.07413, -75.105205], [25.760878, -80.419588], [33.688212, -117.88565], [34.022054, -84.05827], [47.30024, -122.25437], [33.47098, -112.11226], [40.084312, -75.17588], [36.45153300000001, -119.456758], [37.548426, -77.447568], [25.898932, -80.19704], [30.441661, -91.131402], [25.912344, -80.190907], [37.798863, -122.377188], [35.793717, -78.70581899999998], [34.184678000000005, -118.895169], [30.453151, -91.166066], [43.160938, -77.68120400000002], [41.387988, -83.041825], [41.297081, -72.740675], [34.325999, -117.569214], [34.071206, -118.049873], [33.815832, -117.915459], [33.95361, -117.38329], [33.521953, -86.826103], [33.614681, -117.707783], [42.260501, -121.805716], [45.85848, -123.55248], [41.54201, -87.965], [34.249767, -118.47221], [40.730646, -77.009277], [38.747418, -121.170574], [34.146008, -118.114069], [25.928453, -80.189477], [39.95235, -74.466587], [25.685045, -80.428016], [25.867843, -80.208279], [43.649185, -123.60339], [30.232478000000004, -97.758468], [34.072189, -118.402909], [37.554879, -77.48549100000002], [25.769483, -80.33749399999998], [42.96612800000001, -85.682551], [35.26710100000001, -118.878435], [34.03389, -118.35654], [34.172332, -118.5327], [38.19109, -85.71845], [35.400534, -119.043356], [33.935928999999994, -117.664209], [26.192309, -80.151737], [45.561531, -117.91739], [39.10381, -84.59659], [37.332505, -122.055688], [44.584118, -93.297625], [25.732038, -80.254459], [29.810513, -95.261443], [34.64602, -118.04089], [37.25186, -121.95839], [26.318789, -80.116392], [36.842264, -76.11573800000002], [37.541672, -122.019236], [27.21467100000001, -82.49038399999998], [41.15438, -112.064468], [36.645138, -121.817738], [43.559501, -123.282269], [40.83631, -73.8739], [27.996753, -82.576592], [30.330627000000003, -97.731074], [35.133623, -80.853523], [45.37475, -122.75544], [28.25447, -82.470773], [41.76081, -87.89835], [36.719863, -76.88294499999998], [39.13296500000001, -122.870018], [28.239291, -82.339462], [34.07266, -118.0565], [33.24757, -87.14149], [34.00302, -117.832051], [38.216107, -122.22254], [37.70149, -121.76935], [34.495055, -118.326224], [27.58531, -82.53513000000002], [30.218328000000003, -81.940833], [27.88008, -82.78718], [34.546519, -92.628489], [33.217852, -117.390931], [38.358041, -121.712557], [33.982554, -117.715053], [34.023153, -118.156458], [33.830369, -118.142455], [32.861866, -96.88082], [44.00494000000001, -121.32611], [36.141616, -86.664748], [44.97347, -93.40064], [37.144202, -121.98472], [28.545048, -81.413579], [39.402905, -120.191212], [47.32368, -122.59297], [27.572561, -82.42544699999998], [39.119578, -77.080625], [28.57523, -81.28612700000002], [35.092133000000004, -85.192573], [32.761477, -96.746394], [33.905799, -81.372585], [35.756345, -78.700057], [35.901141, -78.65395699999998], [37.70336, -121.074785], [38.971164, -77.179063], [35.032599, -81.852007], [37.333269, -76.709336], [28.065677, -82.500513], [46.439627, -122.889558], [32.721358, -96.807932], [39.01856, -76.92086], [32.80021, -96.821561], [35.09742, -106.6322], [28.488031, -81.43863499999998], [29.99275, -90.0486], [42.19654, -86.05651999999998], [32.923891999999995, -96.764886], [34.506124, -77.90332099999998], [40.161661, -75.129778], [26.701453000000004, -80.147222], [32.777, -97.28371], [38.591239, -77.317665], [34.016871, -118.482807], [42.60707, -83.2098], [35.829844, -78.31828399999998], [41.119819, -74.005483], [40.75364, -111.6225], [26.677696, -81.809923], [40.455079, -78.328505], [34.067916, -81.146271], [30.397005, -84.281974], [45.073248, -94.696297], [37.739441, -121.178698], [41.497732, -95.265487], [26.433631, -80.08944100000002], [44.601799, -84.708763], [33.107503, -107.300773], [41.056607, -91.54468], [40.66697, -111.8883], [36.15766, -86.77098000000002], [38.23129, -122.11245], [34.049178000000005, -118.436315], [41.569778, -87.36579], [25.689114, -80.415998], [40.600857, -74.29012900000002], [35.113, -90.0289], [34.18866, -118.45307], [33.976351, -118.386913], [35.919831, -79.676982], [36.830325, -76.305924], [42.46624, -88.032736], [38.04377, -91.49175], [36.183811, -86.750158], [34.129532, -117.94247], [43.61218, -123.2177], [37.899116, -122.31334], [41.151854, -76.91000799999998], [37.434125, -92.877611], [32.767159, -96.836603], [39.911345, -120.805073], [32.95578, -97.04058], [25.70179, -80.347902], [34.184499, -118.925802], [42.35942, -87.87419], [32.807299, -96.803581], [38.19, -85.72475], [33.930694, -117.988895], [43.899192, -92.483726], [33.924375, -117.655409], [38.51044, -121.46012], [44.93369000000001, -92.86268], [37.734567, -122.475018], [29.94868300000001, -90.08416], [44.16938, -93.25857], [25.902517, -80.159824], [38.452543, -121.374547], [35.350085, -119.0345], [35.902741, -78.793375], [33.776146000000004, -117.853206], [41.53867, -72.95801], [38.23583, -85.61639], [36.85527, -121.546054], [44.634312, -124.019059], [44.97022, -93.25259], [38.2228, -85.51084], [41.59729, -93.59288], [41.03565, -73.754726], [42.36644, -83.43606], [43.3494, -112.223678], [36.797429, -119.785449], [37.68844, -122.11121], [35.537397, -80.860945], [33.98819, -118.061471], [32.68561, -117.09039], [34.01396, -84.56148], [40.863795, -76.547264], [47.76961, -122.18983], [38.492265, -121.44181299999998], [39.22128, -76.704098], [30.360079, -97.691801], [25.598557, -80.355518], [34.06678, -117.33234], [36.316402, -82.347162], [40.56864, -74.32647], [28.567801, -81.207809], [37.923204, -122.063677], [32.748878999999995, -97.300165], [37.742325, -121.530139], [34.15315, -118.36151], [42.34603, -83.09664000000002], [35.263751, -118.91431], [41.17902, -73.18119], [32.98588, -96.88277], [25.870466, -80.242673], [37.36290200000001, -120.576655], [25.889471, -80.162038], [44.060565, -123.822634], [36.937689, -121.409945], [39.702983, -104.990282], [39.123508, -120.940222], [44.929841, -93.070975], [35.034845000000004, -120.500887], [45.497461, -122.673281], [34.160474, -118.380936], [45.822857, -108.360209], [25.947317, -80.151248], [28.420548, -81.404628], [41.435076, -76.017955], [39.469529, -76.662769], [32.702746999999995, -96.833935], [27.95614, -82.476099], [34.800907, -117.107593], [39.775304, -84.200521], [41.23623, -95.95406], [42.44107, -83.75506999999998], [35.28246, -81.184606], [27.972549, -80.510998], [33.214003000000005, -117.389621], [27.96545900000001, -82.435505], [38.96436, -77.17477], [37.558118, -77.413883], [34.03568, -118.03143], [32.842309, -79.867992], [41.810232, -73.76444000000002], [38.796549, -77.44679599999998], [29.783934, -95.541568], [35.430352, -119.038944], [33.648534999999995, -117.748163], [25.924424, -80.31085300000002], [29.699184, -95.484646], [29.947661, -95.303828], [33.12663, -117.213584], [42.82871, -78.79057], [25.760886, -80.420872], [35.198157, -80.79006], [32.76406, -117.12758999999998], [36.285314, -86.728291], [42.00554, -87.66091], [35.85805, -86.5863], [39.204937, -76.64155799999997], [38.473334, -122.730435], [36.143935, -85.37223399999998], [25.68569, -80.365965], [39.75624000000001, -86.1941], [44.864058, -93.090295], [40.164346, -76.82768], [41.70773, -87.58963], [38.93532, -94.72042], [37.475234, -77.69225899999998], [33.912908, -118.140823], [37.70229000000001, -122.060908], [36.255565, -119.869517], [39.203715, -94.500716], [25.91838, -80.17975], [44.801915, -93.231401], [38.91904, -76.932168], [33.687422999999995, -117.87191], [25.9423, -80.30935600000002], [34.145411, -117.31612], [40.706878, -74.19909], [30.28738400000001, -97.681672], [34.15229, -118.11327], [33.591953000000004, -84.38531], [44.413667, -123.06157], [35.23957, -80.82731], [30.237287, -82.735326], [35.35128, -94.29666], [39.559503, -105.104197], [32.330681, -95.300662], [33.720184, -117.971955], [37.787693, -121.281744], [34.727603, -82.295117], [37.773776, -122.454482], [41.20636, -97.042583], [25.924229, -80.242631], [26.12938, -80.21771], [34.04365, -118.44373], [34.688305, -120.436806], [35.72012700000001, -120.87931100000002], [44.88518300000001, -122.998439], [38.678244, -120.637444], [37.160048, -93.288724], [39.404429, -74.528514], [40.640091, -74.206349], [39.999618, -111.751181], [38.902284, -75.81519899999998], [38.588857, -121.410738], [45.52579, -122.66034], [33.881912, -117.546884], [40.490981, -124.097925], [30.261449, -97.717254], [37.56898, -77.478786], [43.660116, -116.354411], [33.918689, -118.284701], [37.759477, -77.861118], [44.038517, -92.487965], [47.462766, -122.26554099999998], [40.85306, -73.96011], [30.360648, -97.831597], [42.76246, -71.12226], [38.873871, -76.990873], [41.253748, -111.84187], [34.032086, -118.262248], [43.1087, -89.20688], [37.776648, -122.393419], [32.85205, -117.115405], [39.61838, -105.09112], [44.621916, -121.1409], [45.511411, -94.279335], [33.834403, -84.214636], [41.98394, -87.84267], [32.473890000000004, -80.97316], [41.98737, -87.75135999999998], [33.880496, -117.60108], [28.24051, -82.31255999999998], [45.775344, -111.205863], [45.752488, -93.633202], [34.134817, -117.310795], [25.811613, -80.313412], [33.967651000000004, -118.162393], [27.771128000000004, -82.649636], [33.83574, -117.53217], [42.355724, -112.221825], [44.89045, -93.39937], [40.140402, -75.201891], [35.21605, -80.84222], [33.525991, -117.16508], [41.35278, -81.03763000000002], [42.38888, -122.3454], [43.04115, -87.92520999999998], [34.113846, -117.823955], [32.709478000000004, -96.928792], [30.534342, -87.204954], [41.167391, -112.026032], [25.889248, -80.159806], [41.099793, -73.951459], [29.98272, -90.055219], [38.810199, -123.593703], [33.412095, -86.80569200000002], [32.657382, -96.737307], [32.739909999999995, -116.95149], [44.96593, -93.27933], [43.309653, -83.95328], [37.94095, -122.05988], [27.795483, -82.691826], [30.030058, -97.676675], [32.45834, -93.769402], [25.93732, -80.196877], [28.89382800000001, -81.686833], [37.743949, -122.405578], [33.89498, -117.499305], [36.886478, -121.55943899999998], [33.916304, -118.373283], [34.14775, -118.22874], [37.701862, -122.074079], [41.72592, -72.66864], [41.177927, -73.18446899999998], [39.181848, -76.784144], [29.950476, -90.064865], [42.37994000000001, -83.14619], [34.155496, -118.40102], [41.703822, -122.645064], [37.749657, -122.403524], [27.210809, -80.400305], [34.038059999999994, -118.27621], [45.25354, -92.89865], [40.61583, -111.90558], [36.916979, -118.24103999999998], [28.027828000000003, -82.209008], [33.96361, -118.37005], [34.616686, -117.93403700000002], [28.07219000000001, -80.705], [37.056601, -120.96956000000002], [33.908112, -92.857052], [39.954861, -74.206691], [32.907909000000004, -96.898097], [30.42236, -91.13474], [38.636718, -121.383081], [28.357378000000004, -81.494599], [25.716996, -80.332154], [40.78407, -73.43928000000002], [25.969578, -80.21479000000002], [40.636799, -74.29273], [40.72797, -73.75262], [38.877506, -77.271737], [36.72819000000001, -119.69992], [32.667116, -96.822782], [34.222076, -119.109824], [36.147299, -86.75787700000002], [34.70624, -82.45374], [42.34175, -83.0675], [25.94173, -80.193574], [42.248536, -88.187674], [46.879853, -99.56893], [42.346785, -92.045247], [33.748641, -79.464414], [33.76859, -84.49449], [33.876397999999995, -118.075888], [25.858203, -80.183835], [33.947436, -118.279297], [37.71522, -121.70896], [34.916883, -82.42916], [40.53975, -111.89354], [45.437113, -122.756792], [25.973716, -80.165949], [32.76825, -117.00234], [29.793875, -95.456998], [38.872988, -77.042354], [30.439173, -91.019983], [39.865812, -86.047035], [25.749454, -80.335813], [34.136443, -117.551467], [40.572863, -112.295068], [40.726733, -111.767817], [32.916702, -96.766837], [33.997954, -117.935603], [32.603951, -117.086722], [41.121199, -73.364747], [26.062641, -80.353824]],\n",
       "                {&quot;blur&quot;: 15, &quot;maxZoom&quot;: 18, &quot;minOpacity&quot;: 0.5, &quot;radius&quot;: 25}\n",
       "            ).addTo(map_9ef36bce0a56cfdec840fbbde134cb16);\n",
       "        \n",
       "&lt;/script&gt;\n",
       "&lt;/html&gt;\" style=\"position:absolute;width:100%;height:100%;left:0;top:0;border:none !important;\" allowfullscreen webkitallowfullscreen mozallowfullscreen></iframe></div></div>"
      ],
      "text/plain": [
       "<folium.folium.Map at 0x2156d9e0820>"
      ]
     },
     "execution_count": 67,
     "metadata": {},
     "output_type": "execute_result"
    }
   ],
   "source": [
    "map = folium.Map()\n",
    "HeatMap(lat_lon_pairs).add_to(map)\n",
    "map"
   ]
  },
  {
   "cell_type": "code",
   "execution_count": null,
   "metadata": {},
   "outputs": [],
   "source": []
  }
 ],
 "metadata": {
  "kernelspec": {
   "display_name": "Python 3",
   "language": "python",
   "name": "python3"
  },
  "language_info": {
   "codemirror_mode": {
    "name": "ipython",
    "version": 3
   },
   "file_extension": ".py",
   "mimetype": "text/x-python",
   "name": "python",
   "nbconvert_exporter": "python",
   "pygments_lexer": "ipython3",
   "version": "3.8.5"
  }
 },
 "nbformat": 4,
 "nbformat_minor": 4
}
